{
  "nbformat": 4,
  "nbformat_minor": 0,
  "metadata": {
    "colab": {
      "provenance": []
    },
    "kernelspec": {
      "name": "python3",
      "display_name": "Python 3"
    },
    "language_info": {
      "name": "python"
    }
  },
  "cells": [
    {
      "cell_type": "markdown",
      "metadata": {
        "id": "V4WyywEouRn2"
      },
      "source": [
        "**Abstract:** \n",
        "\n",
        "*This project consists of ten parts each of them related to Statistics in Data Analysis. This project considers a small dataset which includes four random variables each of 1000 size. The random variables are the daily ETF return; the daily relative change in the price of the crude oil; the daily relative change in the gold price; and the daily return of the JPMorgan Chase & Co stock. In this project we use python as a programming language to analyze the data with various kinds of plots, check for the significance of central limit theorem by sampling the original data, testing different hypotheses for sample means and standard deviations and at last we fit a line to the data to check the performance of the model.*\n",
        "\n",
        "**Keywords**: *Random Variables, Python, Central Limit Theorem, Testing Hypothesis, Fitting a line*\n"
      ]
    },
    {
      "cell_type": "markdown",
      "metadata": {
        "id": "vdiw7iHZr6J-"
      },
      "source": [
        "**Introduction and Implementation:**\n",
        "\n",
        "*The whole analysis was implemented using python as programming language. The results of all the parts and the sub parts will be attached as plots and tables which were outputs of the python code.*\n",
        "\n",
        "\n",
        "*The first part is about getting to know the mean and variance in the random variables and checking if there is any correlation between the variables in data.*"
      ]
    },
    {
      "cell_type": "markdown",
      "metadata": {
        "id": "Fsof7OASwsHO"
      },
      "source": [
        "**Part 1: Meet the data**"
      ]
    },
    {
      "cell_type": "code",
      "metadata": {
        "id": "O4BO80iLuHRd",
        "colab": {
          "base_uri": "https://localhost:8080/"
        },
        "outputId": "870184cf-defc-43d7-d9f8-4be84e1a7005"
      },
      "source": [
        "import numpy as np\n",
        "import matplotlib.pyplot as plt\n",
        "import pandas as pd\n",
        "import seaborn as sns\n",
        "from sklearn.preprocessing import MinMaxScaler\n",
        "from scipy.stats import chi2\n",
        "from scipy.stats import t,ttest_1samp\n",
        "from scipy.stats import f\n",
        "from sklearn.metrics import r2_score\n",
        "from sklearn.linear_model import LinearRegression\n",
        "from sklearn.model_selection import train_test_split\n",
        "import statsmodels.api as sm"
      ],
      "execution_count": null,
      "outputs": [
        {
          "output_type": "stream",
          "name": "stderr",
          "text": [
            "/usr/local/lib/python3.7/dist-packages/statsmodels/tools/_testing.py:19: FutureWarning: pandas.util.testing is deprecated. Use the functions in the public API at pandas.testing instead.\n",
            "  import pandas.util.testing as tm\n"
          ]
        }
      ]
    },
    {
      "cell_type": "code",
      "metadata": {
        "id": "rno-xIgyuznS"
      },
      "source": [
        "dataxlsx=pd.read_excel('MA 541 Course Project Data.xlsx')"
      ],
      "execution_count": null,
      "outputs": []
    },
    {
      "cell_type": "code",
      "metadata": {
        "id": "drlgWfBEu8kO"
      },
      "source": [
        "dataxlsx.to_csv('datac.csv',encoding='utf-8')"
      ],
      "execution_count": null,
      "outputs": []
    },
    {
      "cell_type": "code",
      "metadata": {
        "id": "lMvC0rLP161T",
        "colab": {
          "base_uri": "https://localhost:8080/",
          "height": 206
        },
        "outputId": "f3e1b80e-cb9f-44f9-d902-7088d73efd54"
      },
      "source": [
        "data1=pd.read_csv('datac.csv')\n",
        "columns=['Close_ETF','oil','gold','JPM']\n",
        "data=data1[columns]\n",
        "data.head()"
      ],
      "execution_count": null,
      "outputs": [
        {
          "output_type": "execute_result",
          "data": {
            "text/html": [
              "<div>\n",
              "<style scoped>\n",
              "    .dataframe tbody tr th:only-of-type {\n",
              "        vertical-align: middle;\n",
              "    }\n",
              "\n",
              "    .dataframe tbody tr th {\n",
              "        vertical-align: top;\n",
              "    }\n",
              "\n",
              "    .dataframe thead th {\n",
              "        text-align: right;\n",
              "    }\n",
              "</style>\n",
              "<table border=\"1\" class=\"dataframe\">\n",
              "  <thead>\n",
              "    <tr style=\"text-align: right;\">\n",
              "      <th></th>\n",
              "      <th>Close_ETF</th>\n",
              "      <th>oil</th>\n",
              "      <th>gold</th>\n",
              "      <th>JPM</th>\n",
              "    </tr>\n",
              "  </thead>\n",
              "  <tbody>\n",
              "    <tr>\n",
              "      <th>0</th>\n",
              "      <td>97.349998</td>\n",
              "      <td>0.039242</td>\n",
              "      <td>0.004668</td>\n",
              "      <td>0.032258</td>\n",
              "    </tr>\n",
              "    <tr>\n",
              "      <th>1</th>\n",
              "      <td>97.750000</td>\n",
              "      <td>0.001953</td>\n",
              "      <td>-0.001366</td>\n",
              "      <td>-0.002948</td>\n",
              "    </tr>\n",
              "    <tr>\n",
              "      <th>2</th>\n",
              "      <td>99.160004</td>\n",
              "      <td>-0.031514</td>\n",
              "      <td>-0.007937</td>\n",
              "      <td>0.025724</td>\n",
              "    </tr>\n",
              "    <tr>\n",
              "      <th>3</th>\n",
              "      <td>99.650002</td>\n",
              "      <td>0.034552</td>\n",
              "      <td>0.014621</td>\n",
              "      <td>0.011819</td>\n",
              "    </tr>\n",
              "    <tr>\n",
              "      <th>4</th>\n",
              "      <td>99.260002</td>\n",
              "      <td>0.013619</td>\n",
              "      <td>-0.011419</td>\n",
              "      <td>0.000855</td>\n",
              "    </tr>\n",
              "  </tbody>\n",
              "</table>\n",
              "</div>"
            ],
            "text/plain": [
              "   Close_ETF       oil      gold       JPM\n",
              "0  97.349998  0.039242  0.004668  0.032258\n",
              "1  97.750000  0.001953 -0.001366 -0.002948\n",
              "2  99.160004 -0.031514 -0.007937  0.025724\n",
              "3  99.650002  0.034552  0.014621  0.011819\n",
              "4  99.260002  0.013619 -0.011419  0.000855"
            ]
          },
          "metadata": {},
          "execution_count": 4
        }
      ]
    },
    {
      "cell_type": "code",
      "metadata": {
        "id": "-uGJt8IjwYNJ",
        "colab": {
          "base_uri": "https://localhost:8080/",
          "height": 300
        },
        "outputId": "2f9bccc5-0b41-4c3d-94d3-33c779e2a113"
      },
      "source": [
        "data.describe()"
      ],
      "execution_count": null,
      "outputs": [
        {
          "output_type": "execute_result",
          "data": {
            "text/html": [
              "<div>\n",
              "<style scoped>\n",
              "    .dataframe tbody tr th:only-of-type {\n",
              "        vertical-align: middle;\n",
              "    }\n",
              "\n",
              "    .dataframe tbody tr th {\n",
              "        vertical-align: top;\n",
              "    }\n",
              "\n",
              "    .dataframe thead th {\n",
              "        text-align: right;\n",
              "    }\n",
              "</style>\n",
              "<table border=\"1\" class=\"dataframe\">\n",
              "  <thead>\n",
              "    <tr style=\"text-align: right;\">\n",
              "      <th></th>\n",
              "      <th>Close_ETF</th>\n",
              "      <th>oil</th>\n",
              "      <th>gold</th>\n",
              "      <th>JPM</th>\n",
              "    </tr>\n",
              "  </thead>\n",
              "  <tbody>\n",
              "    <tr>\n",
              "      <th>count</th>\n",
              "      <td>1000.000000</td>\n",
              "      <td>1000.000000</td>\n",
              "      <td>1000.000000</td>\n",
              "      <td>1000.000000</td>\n",
              "    </tr>\n",
              "    <tr>\n",
              "      <th>mean</th>\n",
              "      <td>121.152960</td>\n",
              "      <td>0.001030</td>\n",
              "      <td>0.000663</td>\n",
              "      <td>0.000530</td>\n",
              "    </tr>\n",
              "    <tr>\n",
              "      <th>std</th>\n",
              "      <td>12.569790</td>\n",
              "      <td>0.021093</td>\n",
              "      <td>0.011289</td>\n",
              "      <td>0.011017</td>\n",
              "    </tr>\n",
              "    <tr>\n",
              "      <th>min</th>\n",
              "      <td>96.419998</td>\n",
              "      <td>-0.116533</td>\n",
              "      <td>-0.065805</td>\n",
              "      <td>-0.048217</td>\n",
              "    </tr>\n",
              "    <tr>\n",
              "      <th>25%</th>\n",
              "      <td>112.580002</td>\n",
              "      <td>-0.012461</td>\n",
              "      <td>-0.004816</td>\n",
              "      <td>-0.005538</td>\n",
              "    </tr>\n",
              "    <tr>\n",
              "      <th>50%</th>\n",
              "      <td>120.150002</td>\n",
              "      <td>0.001243</td>\n",
              "      <td>0.001030</td>\n",
              "      <td>0.000386</td>\n",
              "    </tr>\n",
              "    <tr>\n",
              "      <th>75%</th>\n",
              "      <td>128.687497</td>\n",
              "      <td>0.014278</td>\n",
              "      <td>0.007482</td>\n",
              "      <td>0.006966</td>\n",
              "    </tr>\n",
              "    <tr>\n",
              "      <th>max</th>\n",
              "      <td>152.619995</td>\n",
              "      <td>0.087726</td>\n",
              "      <td>0.042199</td>\n",
              "      <td>0.057480</td>\n",
              "    </tr>\n",
              "  </tbody>\n",
              "</table>\n",
              "</div>"
            ],
            "text/plain": [
              "         Close_ETF          oil         gold          JPM\n",
              "count  1000.000000  1000.000000  1000.000000  1000.000000\n",
              "mean    121.152960     0.001030     0.000663     0.000530\n",
              "std      12.569790     0.021093     0.011289     0.011017\n",
              "min      96.419998    -0.116533    -0.065805    -0.048217\n",
              "25%     112.580002    -0.012461    -0.004816    -0.005538\n",
              "50%     120.150002     0.001243     0.001030     0.000386\n",
              "75%     128.687497     0.014278     0.007482     0.006966\n",
              "max     152.619995     0.087726     0.042199     0.057480"
            ]
          },
          "metadata": {},
          "execution_count": 5
        }
      ]
    },
    {
      "cell_type": "markdown",
      "metadata": {
        "id": "xht2w8xEwxOL"
      },
      "source": [
        "*Means of the Random Variables*"
      ]
    },
    {
      "cell_type": "code",
      "metadata": {
        "id": "JNHok3JUwa3p",
        "colab": {
          "base_uri": "https://localhost:8080/"
        },
        "outputId": "de7f3ca7-8668-4f9c-bcde-08f151eab8e6"
      },
      "source": [
        "mean_ETF=data['Close_ETF'].mean()\n",
        "mean_oil=data['oil'].mean()\n",
        "mean_gold=data['gold'].mean()\n",
        "mean_JPM=data['JPM'].mean()\n",
        "print('The mean of Random Variable Close_ETF is',mean_ETF)\n",
        "print('The mean of Random Variable oil is',mean_oil)\n",
        "print('The mean of Random Variable gold is',mean_gold)\n",
        "print('The mean of Random Variable JPM is',mean_JPM)"
      ],
      "execution_count": null,
      "outputs": [
        {
          "output_type": "stream",
          "name": "stdout",
          "text": [
            "The mean of Random Variable Close_ETF is 121.1529600120001\n",
            "The mean of Random Variable oil is 0.001030035493747001\n",
            "The mean of Random Variable gold is 0.0006628360819999998\n",
            "The mean of Random Variable JPM is 0.0005304110210000002\n"
          ]
        }
      ]
    },
    {
      "cell_type": "code",
      "metadata": {
        "id": "1-oKRLwXxZ45",
        "colab": {
          "base_uri": "https://localhost:8080/"
        },
        "outputId": "26e1126b-4c81-44d5-c273-48b4634f2b43"
      },
      "source": [
        "std_ETF=data['Close_ETF'].std()\n",
        "std_oil=data['oil'].std()\n",
        "std_gold=data['gold'].std()\n",
        "std_JPM=data['JPM'].std()\n",
        "print('The Standard Deviation of Random Variable Close_ETF is',std_ETF)\n",
        "print('The Standard Deviation of Random Variable oil is',std_oil)\n",
        "print('The Standard Deviation of Random Variable gold is',std_gold)\n",
        "print('The Standard Deviation of Random Variable JPM is',std_JPM)"
      ],
      "execution_count": null,
      "outputs": [
        {
          "output_type": "stream",
          "name": "stdout",
          "text": [
            "The Standard Deviation of Random Variable Close_ETF is 12.569790313110744\n",
            "The Standard Deviation of Random Variable oil is 0.021092898551005306\n",
            "The Standard Deviation of Random Variable gold is 0.011289060259316142\n",
            "The Standard Deviation of Random Variable JPM is 0.011016562382593569\n"
          ]
        }
      ]
    },
    {
      "cell_type": "code",
      "metadata": {
        "id": "3NsHaiCFx7As",
        "colab": {
          "base_uri": "https://localhost:8080/"
        },
        "outputId": "b480e50f-01fd-4792-aaf8-e4a03bbd25bb"
      },
      "source": [
        "print('Correlation between the Random Variables is')\n",
        "print(data.corr())"
      ],
      "execution_count": null,
      "outputs": [
        {
          "output_type": "stream",
          "name": "stdout",
          "text": [
            "Correlation between the Random Variables is\n",
            "           Close_ETF       oil      gold       JPM\n",
            "Close_ETF   1.000000 -0.009045  0.022996  0.036807\n",
            "oil        -0.009045  1.000000  0.235650 -0.120849\n",
            "gold        0.022996  0.235650  1.000000  0.100170\n",
            "JPM         0.036807 -0.120849  0.100170  1.000000\n"
          ]
        }
      ]
    },
    {
      "cell_type": "markdown",
      "metadata": {
        "id": "pEHfqerpyiMw"
      },
      "source": [
        "**Part 2: Describe your data**"
      ]
    },
    {
      "cell_type": "markdown",
      "metadata": {
        "id": "r1UFmoXD1T-h"
      },
      "source": [
        "*1)A histogram for each column*"
      ]
    },
    {
      "cell_type": "code",
      "metadata": {
        "id": "Yt30hHKQySv0",
        "colab": {
          "base_uri": "https://localhost:8080/",
          "height": 298
        },
        "outputId": "7fb2b0f8-dbc3-4447-d835-cc66c402428d"
      },
      "source": [
        "sns.histplot(data['Close_ETF'],color='b')"
      ],
      "execution_count": null,
      "outputs": [
        {
          "output_type": "execute_result",
          "data": {
            "text/plain": [
              "<matplotlib.axes._subplots.AxesSubplot at 0x7f29cfe82e90>"
            ]
          },
          "metadata": {},
          "execution_count": 9
        },
        {
          "output_type": "display_data",
          "data": {
            "image/png": "[encoded data removed]",
            "text/plain": [
              "<Figure size 432x288 with 1 Axes>"
            ]
          },
          "metadata": {
            "needs_background": "light"
          }
        }
      ]
    },
    {
      "cell_type": "code",
      "metadata": {
        "id": "eRh4iiB50XgU",
        "colab": {
          "base_uri": "https://localhost:8080/",
          "height": 297
        },
        "outputId": "058218eb-6366-4860-dcbe-5e6a7f6fbf42"
      },
      "source": [
        "sns.histplot(data['oil'],color='k')"
      ],
      "execution_count": null,
      "outputs": [
        {
          "output_type": "execute_result",
          "data": {
            "text/plain": [
              "<matplotlib.axes._subplots.AxesSubplot at 0x7f29ceaa3a50>"
            ]
          },
          "metadata": {},
          "execution_count": 10
        },
        {
          "output_type": "display_data",
          "data": {
            "image/png": "[encoded data removed]",
            "text/plain": [
              "<Figure size 432x288 with 1 Axes>"
            ]
          },
          "metadata": {
            "needs_background": "light"
          }
        }
      ]
    },
    {
      "cell_type": "code",
      "metadata": {
        "id": "ho1hbqy30esQ",
        "colab": {
          "base_uri": "https://localhost:8080/",
          "height": 297
        },
        "outputId": "339b7686-7fff-4078-b383-cf4ec3820e35"
      },
      "source": [
        "sns.histplot(data['gold'],color='r')"
      ],
      "execution_count": null,
      "outputs": [
        {
          "output_type": "execute_result",
          "data": {
            "text/plain": [
              "<matplotlib.axes._subplots.AxesSubplot at 0x7f29cfe61410>"
            ]
          },
          "metadata": {},
          "execution_count": 11
        },
        {
          "output_type": "display_data",
          "data": {
            "image/png": "[encoded data removed]",
            "text/plain": [
              "<Figure size 432x288 with 1 Axes>"
            ]
          },
          "metadata": {
            "needs_background": "light"
          }
        }
      ]
    },
    {
      "cell_type": "code",
      "metadata": {
        "id": "4OaPL7C40pGA",
        "colab": {
          "base_uri": "https://localhost:8080/",
          "height": 298
        },
        "outputId": "163f2a98-a3f9-422d-a11a-ca92fc3230ce"
      },
      "source": [
        "sns.histplot(data['JPM'],color='c')"
      ],
      "execution_count": null,
      "outputs": [
        {
          "output_type": "execute_result",
          "data": {
            "text/plain": [
              "<matplotlib.axes._subplots.AxesSubplot at 0x7f29ce4a0250>"
            ]
          },
          "metadata": {},
          "execution_count": 12
        },
        {
          "output_type": "display_data",
          "data": {
            "image/png": "[encoded data removed]",
            "text/plain": [
              "<Figure size 432x288 with 1 Axes>"
            ]
          },
          "metadata": {
            "needs_background": "light"
          }
        }
      ]
    },
    {
      "cell_type": "markdown",
      "source": [
        "*Histograms give us the basic idea about the distribution of values of the variable*"
      ],
      "metadata": {
        "id": "PFSAROuI6aZG"
      }
    },
    {
      "cell_type": "markdown",
      "metadata": {
        "id": "nLSHJUkN1ceK"
      },
      "source": [
        "*2)A time series plot for each column*"
      ]
    },
    {
      "cell_type": "code",
      "metadata": {
        "id": "VP0Rv9E10v3b",
        "colab": {
          "base_uri": "https://localhost:8080/",
          "height": 283
        },
        "outputId": "d55b0fb9-9ce4-46dc-cda4-91c88231b8d8"
      },
      "source": [
        "sns.lineplot(x=np.arange(0,1000,1),y=data['Close_ETF'],color='b')"
      ],
      "execution_count": null,
      "outputs": [
        {
          "output_type": "execute_result",
          "data": {
            "text/plain": [
              "<matplotlib.axes._subplots.AxesSubplot at 0x7f29ce33f310>"
            ]
          },
          "metadata": {},
          "execution_count": 13
        },
        {
          "output_type": "display_data",
          "data": {
            "image/png": "[encoded data removed]",
            "text/plain": [
              "<Figure size 432x288 with 1 Axes>"
            ]
          },
          "metadata": {
            "needs_background": "light"
          }
        }
      ]
    },
    {
      "cell_type": "code",
      "metadata": {
        "id": "K1cAWVGJ19Hr",
        "colab": {
          "base_uri": "https://localhost:8080/",
          "height": 283
        },
        "outputId": "83d0dfb2-72a9-437e-d90b-dbaf49f4c07c"
      },
      "source": [
        "sns.lineplot(x=np.arange(0,1000,1),y=data['oil'],color='k')"
      ],
      "execution_count": null,
      "outputs": [
        {
          "output_type": "execute_result",
          "data": {
            "text/plain": [
              "<matplotlib.axes._subplots.AxesSubplot at 0x7f29ce3bb590>"
            ]
          },
          "metadata": {},
          "execution_count": 14
        },
        {
          "output_type": "display_data",
          "data": {
            "image/png": "[encoded data removed]",
            "text/plain": [
              "<Figure size 432x288 with 1 Axes>"
            ]
          },
          "metadata": {
            "needs_background": "light"
          }
        }
      ]
    },
    {
      "cell_type": "code",
      "metadata": {
        "id": "7id5GODZ2SqU",
        "colab": {
          "base_uri": "https://localhost:8080/",
          "height": 283
        },
        "outputId": "9aa2ae9f-7c25-421e-879c-d140c601527f"
      },
      "source": [
        "sns.lineplot(x=np.arange(0,1000,1),y=data['gold'],color='r')"
      ],
      "execution_count": null,
      "outputs": [
        {
          "output_type": "execute_result",
          "data": {
            "text/plain": [
              "<matplotlib.axes._subplots.AxesSubplot at 0x7f29ce442d50>"
            ]
          },
          "metadata": {},
          "execution_count": 15
        },
        {
          "output_type": "display_data",
          "data": {
            "image/png": "[encoded data removed]",
            "text/plain": [
              "<Figure size 432x288 with 1 Axes>"
            ]
          },
          "metadata": {
            "needs_background": "light"
          }
        }
      ]
    },
    {
      "cell_type": "code",
      "metadata": {
        "id": "8wqtOWG22VFb",
        "colab": {
          "base_uri": "https://localhost:8080/",
          "height": 283
        },
        "outputId": "b18da0a8-2b89-4118-e351-f7059d7d7567"
      },
      "source": [
        "sns.lineplot(x=np.arange(0,1000,1),y=data['JPM'],color='g')"
      ],
      "execution_count": null,
      "outputs": [
        {
          "output_type": "execute_result",
          "data": {
            "text/plain": [
              "<matplotlib.axes._subplots.AxesSubplot at 0x7f29ce2a6d10>"
            ]
          },
          "metadata": {},
          "execution_count": 16
        },
        {
          "output_type": "display_data",
          "data": {
            "image/png": "[encoded data removed]",
            "text/plain": [
              "<Figure size 432x288 with 1 Axes>"
            ]
          },
          "metadata": {
            "needs_background": "light"
          }
        }
      ]
    },
    {
      "cell_type": "markdown",
      "source": [
        "*Time series plots give us the change in the random variable over time*"
      ],
      "metadata": {
        "id": "11-aVNtq60g7"
      }
    },
    {
      "cell_type": "markdown",
      "metadata": {
        "id": "mCqXEvLDsDVq"
      },
      "source": [
        "*To get the time series plot of the whole data we need to normalize the data as the scale of random variable ETF is a lot higher when compared to the others.\n",
        "We can do the normalizing by subtracting the mean of the variables from them respectively and dividing by their standard deviations. So, by normalizing the data we can get a time series plot as follows:*"
      ]
    },
    {
      "cell_type": "markdown",
      "metadata": {
        "id": "qxZ7-ZfQ2jiA"
      },
      "source": [
        "*3)A time series plot for all four columns*"
      ]
    },
    {
      "cell_type": "code",
      "metadata": {
        "id": "OedFMOB05evx"
      },
      "source": [
        "norm_data=(data-data.mean())/data.std()"
      ],
      "execution_count": null,
      "outputs": []
    },
    {
      "cell_type": "code",
      "source": [
        "norm_data.describe()"
      ],
      "metadata": {
        "id": "CQopJuBt8Zev",
        "outputId": "a8d03aec-1ae3-4861-c843-18fe9a26f5d9",
        "colab": {
          "base_uri": "https://localhost:8080/",
          "height": 300
        }
      },
      "execution_count": null,
      "outputs": [
        {
          "output_type": "execute_result",
          "data": {
            "text/html": [
              "<div>\n",
              "<style scoped>\n",
              "    .dataframe tbody tr th:only-of-type {\n",
              "        vertical-align: middle;\n",
              "    }\n",
              "\n",
              "    .dataframe tbody tr th {\n",
              "        vertical-align: top;\n",
              "    }\n",
              "\n",
              "    .dataframe thead th {\n",
              "        text-align: right;\n",
              "    }\n",
              "</style>\n",
              "<table border=\"1\" class=\"dataframe\">\n",
              "  <thead>\n",
              "    <tr style=\"text-align: right;\">\n",
              "      <th></th>\n",
              "      <th>Close_ETF</th>\n",
              "      <th>oil</th>\n",
              "      <th>gold</th>\n",
              "      <th>JPM</th>\n",
              "    </tr>\n",
              "  </thead>\n",
              "  <tbody>\n",
              "    <tr>\n",
              "      <th>count</th>\n",
              "      <td>1.000000e+03</td>\n",
              "      <td>1.000000e+03</td>\n",
              "      <td>1.000000e+03</td>\n",
              "      <td>1.000000e+03</td>\n",
              "    </tr>\n",
              "    <tr>\n",
              "      <th>mean</th>\n",
              "      <td>-7.173373e-15</td>\n",
              "      <td>2.264855e-17</td>\n",
              "      <td>-6.550316e-18</td>\n",
              "      <td>-4.802582e-17</td>\n",
              "    </tr>\n",
              "    <tr>\n",
              "      <th>std</th>\n",
              "      <td>1.000000e+00</td>\n",
              "      <td>1.000000e+00</td>\n",
              "      <td>1.000000e+00</td>\n",
              "      <td>1.000000e+00</td>\n",
              "    </tr>\n",
              "    <tr>\n",
              "      <th>min</th>\n",
              "      <td>-1.967651e+00</td>\n",
              "      <td>-5.573566e+00</td>\n",
              "      <td>-5.887787e+00</td>\n",
              "      <td>-4.424900e+00</td>\n",
              "    </tr>\n",
              "    <tr>\n",
              "      <th>25%</th>\n",
              "      <td>-6.820287e-01</td>\n",
              "      <td>-6.395836e-01</td>\n",
              "      <td>-4.852799e-01</td>\n",
              "      <td>-5.508521e-01</td>\n",
              "    </tr>\n",
              "    <tr>\n",
              "      <th>50%</th>\n",
              "      <td>-7.979115e-02</td>\n",
              "      <td>1.009238e-02</td>\n",
              "      <td>3.248755e-02</td>\n",
              "      <td>-1.313173e-02</td>\n",
              "    </tr>\n",
              "    <tr>\n",
              "      <th>75%</th>\n",
              "      <td>5.994162e-01</td>\n",
              "      <td>6.280565e-01</td>\n",
              "      <td>6.040418e-01</td>\n",
              "      <td>5.841500e-01</td>\n",
              "    </tr>\n",
              "    <tr>\n",
              "      <th>max</th>\n",
              "      <td>2.503386e+00</td>\n",
              "      <td>4.110214e+00</td>\n",
              "      <td>3.679295e+00</td>\n",
              "      <td>5.169428e+00</td>\n",
              "    </tr>\n",
              "  </tbody>\n",
              "</table>\n",
              "</div>"
            ],
            "text/plain": [
              "          Close_ETF           oil          gold           JPM\n",
              "count  1.000000e+03  1.000000e+03  1.000000e+03  1.000000e+03\n",
              "mean  -7.173373e-15  2.264855e-17 -6.550316e-18 -4.802582e-17\n",
              "std    1.000000e+00  1.000000e+00  1.000000e+00  1.000000e+00\n",
              "min   -1.967651e+00 -5.573566e+00 -5.887787e+00 -4.424900e+00\n",
              "25%   -6.820287e-01 -6.395836e-01 -4.852799e-01 -5.508521e-01\n",
              "50%   -7.979115e-02  1.009238e-02  3.248755e-02 -1.313173e-02\n",
              "75%    5.994162e-01  6.280565e-01  6.040418e-01  5.841500e-01\n",
              "max    2.503386e+00  4.110214e+00  3.679295e+00  5.169428e+00"
            ]
          },
          "metadata": {},
          "execution_count": 18
        }
      ]
    },
    {
      "cell_type": "code",
      "metadata": {
        "id": "K433skOz2Ws3",
        "colab": {
          "base_uri": "https://localhost:8080/",
          "height": 283
        },
        "outputId": "1c1e19f8-3f8b-4458-fa11-559433079496"
      },
      "source": [
        "sns.lineplot(data=norm_data)"
      ],
      "execution_count": null,
      "outputs": [
        {
          "output_type": "execute_result",
          "data": {
            "text/plain": [
              "<matplotlib.axes._subplots.AxesSubplot at 0x7f29ceac4fd0>"
            ]
          },
          "metadata": {},
          "execution_count": 19
        },
        {
          "output_type": "display_data",
          "data": {
            "image/png": "[encoded data removed]",
            "text/plain": [
              "<Figure size 432x288 with 1 Axes>"
            ]
          },
          "metadata": {
            "needs_background": "light"
          }
        }
      ]
    },
    {
      "cell_type": "markdown",
      "metadata": {
        "id": "RLDpYCui4L3S"
      },
      "source": [
        "*4)\tThree scatter plots to describe the relationships between the ETF column and the OIL column; between the ETF column and the GOLD column; between the ETF column and the JPM column, respectively*"
      ]
    },
    {
      "cell_type": "code",
      "metadata": {
        "id": "qubnO_2F26Dc",
        "colab": {
          "base_uri": "https://localhost:8080/",
          "height": 297
        },
        "outputId": "46097f05-e782-4193-8f3d-d109d16fcd56"
      },
      "source": [
        "sns.scatterplot(y=data['Close_ETF'],x=data['oil'],color='k',alpha=0.3)"
      ],
      "execution_count": null,
      "outputs": [
        {
          "output_type": "execute_result",
          "data": {
            "text/plain": [
              "<matplotlib.axes._subplots.AxesSubplot at 0x7f29ce14d750>"
            ]
          },
          "metadata": {},
          "execution_count": 20
        },
        {
          "output_type": "display_data",
          "data": {
            "image/png": "[encoded data removed]",
            "text/plain": [
              "<Figure size 432x288 with 1 Axes>"
            ]
          },
          "metadata": {
            "needs_background": "light"
          }
        }
      ]
    },
    {
      "cell_type": "code",
      "metadata": {
        "id": "dUr1G1a44a6m",
        "colab": {
          "base_uri": "https://localhost:8080/",
          "height": 297
        },
        "outputId": "29caab51-c3f4-4ee7-ff26-31db65149560"
      },
      "source": [
        "sns.scatterplot(y=data['Close_ETF'],x=data['gold'],color='r',alpha=0.3)"
      ],
      "execution_count": null,
      "outputs": [
        {
          "output_type": "execute_result",
          "data": {
            "text/plain": [
              "<matplotlib.axes._subplots.AxesSubplot at 0x7f29cc8d25d0>"
            ]
          },
          "metadata": {},
          "execution_count": 21
        },
        {
          "output_type": "display_data",
          "data": {
            "image/png": "[encoded data removed]",
            "text/plain": [
              "<Figure size 432x288 with 1 Axes>"
            ]
          },
          "metadata": {
            "needs_background": "light"
          }
        }
      ]
    },
    {
      "cell_type": "code",
      "metadata": {
        "id": "4FPGE5244hEK",
        "colab": {
          "base_uri": "https://localhost:8080/",
          "height": 297
        },
        "outputId": "140959bb-0101-45a7-9fb6-8dc306203320"
      },
      "source": [
        "sns.scatterplot(y=data['Close_ETF'],x=data['JPM'],color='g',alpha=0.5)"
      ],
      "execution_count": null,
      "outputs": [
        {
          "output_type": "execute_result",
          "data": {
            "text/plain": [
              "<matplotlib.axes._subplots.AxesSubplot at 0x7f29cc83e110>"
            ]
          },
          "metadata": {},
          "execution_count": 22
        },
        {
          "output_type": "display_data",
          "data": {
            "image/png": "[encoded data removed]",
            "text/plain": [
              "<Figure size 432x288 with 1 Axes>"
            ]
          },
          "metadata": {
            "needs_background": "light"
          }
        }
      ]
    },
    {
      "cell_type": "markdown",
      "metadata": {
        "id": "MoGitZgjsKw8"
      },
      "source": [
        "*Just by looking at the scatter plots we cannot say any relationship between the variables and ETF. There seems to be any visible relationship. From the above plots we can say that they aren’t linearly related.*"
      ]
    },
    {
      "cell_type": "markdown",
      "metadata": {
        "id": "2pHmmwxn4yZn"
      },
      "source": [
        "**Part 3: What distribution does your data follow**"
      ]
    },
    {
      "cell_type": "markdown",
      "metadata": {
        "id": "0SQQ6BZesRWU"
      },
      "source": [
        "*The Part 3 of the project deals with the distribution of the variables and forming the hypotheses for testing for normality. Seaborn library was used to plot the distribution of the variables using distplot method and chi-square test was implemented with significance level 0.1 for normality. The results of the plots and chi-square test are as follow:*"
      ]
    },
    {
      "cell_type": "markdown",
      "metadata": {
        "id": "psy5EII-GLeG"
      },
      "source": [
        "*Assuming that all the variables follow normal distribution*"
      ]
    },
    {
      "cell_type": "markdown",
      "metadata": {
        "id": "6I0IIqeAGR0J"
      },
      "source": [
        "*Distribution Plots*"
      ]
    },
    {
      "cell_type": "code",
      "metadata": {
        "id": "LyixSVfV4jB-",
        "colab": {
          "base_uri": "https://localhost:8080/",
          "height": 359
        },
        "outputId": "be8626f9-cc65-42fe-88f2-c81127dcc1b8"
      },
      "source": [
        "sns.distplot(data['Close_ETF'],color='b',kde=True)"
      ],
      "execution_count": null,
      "outputs": [
        {
          "output_type": "stream",
          "name": "stderr",
          "text": [
            "/usr/local/lib/python3.7/dist-packages/seaborn/distributions.py:2619: FutureWarning: `distplot` is a deprecated function and will be removed in a future version. Please adapt your code to use either `displot` (a figure-level function with similar flexibility) or `histplot` (an axes-level function for histograms).\n",
            "  warnings.warn(msg, FutureWarning)\n"
          ]
        },
        {
          "output_type": "execute_result",
          "data": {
            "text/plain": [
              "<matplotlib.axes._subplots.AxesSubplot at 0x7f29cc7c4d90>"
            ]
          },
          "metadata": {},
          "execution_count": 23
        },
        {
          "output_type": "display_data",
          "data": {
            "image/png": "[encoded data removed]",
            "text/plain": [
              "<Figure size 432x288 with 1 Axes>"
            ]
          },
          "metadata": {
            "needs_background": "light"
          }
        }
      ]
    },
    {
      "cell_type": "code",
      "metadata": {
        "id": "9yd_b8Va32H2",
        "colab": {
          "base_uri": "https://localhost:8080/",
          "height": 354
        },
        "outputId": "e0379adc-4214-4765-e44f-15644eb828b8"
      },
      "source": [
        "sns.distplot(data['oil'],color='k',kde=True)"
      ],
      "execution_count": null,
      "outputs": [
        {
          "output_type": "stream",
          "name": "stderr",
          "text": [
            "/usr/local/lib/python3.7/dist-packages/seaborn/distributions.py:2619: FutureWarning: `distplot` is a deprecated function and will be removed in a future version. Please adapt your code to use either `displot` (a figure-level function with similar flexibility) or `histplot` (an axes-level function for histograms).\n",
            "  warnings.warn(msg, FutureWarning)\n"
          ]
        },
        {
          "output_type": "execute_result",
          "data": {
            "text/plain": [
              "<matplotlib.axes._subplots.AxesSubplot at 0x7f29cc790e10>"
            ]
          },
          "metadata": {},
          "execution_count": 24
        },
        {
          "output_type": "display_data",
          "data": {
            "image/png": "[encoded data removed]",
            "text/plain": [
              "<Figure size 432x288 with 1 Axes>"
            ]
          },
          "metadata": {
            "needs_background": "light"
          }
        }
      ]
    },
    {
      "cell_type": "code",
      "metadata": {
        "id": "vh7J_F1g36cY",
        "colab": {
          "base_uri": "https://localhost:8080/",
          "height": 354
        },
        "outputId": "f2e72845-6ff7-4498-b958-f92fdbaae140"
      },
      "source": [
        "sns.distplot(data['gold'],color='r',kde=True)"
      ],
      "execution_count": null,
      "outputs": [
        {
          "output_type": "stream",
          "name": "stderr",
          "text": [
            "/usr/local/lib/python3.7/dist-packages/seaborn/distributions.py:2619: FutureWarning: `distplot` is a deprecated function and will be removed in a future version. Please adapt your code to use either `displot` (a figure-level function with similar flexibility) or `histplot` (an axes-level function for histograms).\n",
            "  warnings.warn(msg, FutureWarning)\n"
          ]
        },
        {
          "output_type": "execute_result",
          "data": {
            "text/plain": [
              "<matplotlib.axes._subplots.AxesSubplot at 0x7f29ca6cf210>"
            ]
          },
          "metadata": {},
          "execution_count": 25
        },
        {
          "output_type": "display_data",
          "data": {
            "image/png": "[encoded data removed]",
            "text/plain": [
              "<Figure size 432x288 with 1 Axes>"
            ]
          },
          "metadata": {
            "needs_background": "light"
          }
        }
      ]
    },
    {
      "cell_type": "code",
      "metadata": {
        "id": "RUixMnCt389W",
        "colab": {
          "base_uri": "https://localhost:8080/",
          "height": 354
        },
        "outputId": "c4688b4a-f81c-4226-b245-68c557c8ce06"
      },
      "source": [
        "sns.distplot(data['JPM'],color='g',kde=True)"
      ],
      "execution_count": null,
      "outputs": [
        {
          "output_type": "stream",
          "name": "stderr",
          "text": [
            "/usr/local/lib/python3.7/dist-packages/seaborn/distributions.py:2619: FutureWarning: `distplot` is a deprecated function and will be removed in a future version. Please adapt your code to use either `displot` (a figure-level function with similar flexibility) or `histplot` (an axes-level function for histograms).\n",
            "  warnings.warn(msg, FutureWarning)\n"
          ]
        },
        {
          "output_type": "execute_result",
          "data": {
            "text/plain": [
              "<matplotlib.axes._subplots.AxesSubplot at 0x7f29ca608a90>"
            ]
          },
          "metadata": {},
          "execution_count": 26
        },
        {
          "output_type": "display_data",
          "data": {
            "image/png": "[encoded data removed]",
            "text/plain": [
              "<Figure size 432x288 with 1 Axes>"
            ]
          },
          "metadata": {
            "needs_background": "light"
          }
        }
      ]
    },
    {
      "cell_type": "markdown",
      "source": [
        "*From the distribution plots we can say that almost all the 4 variables follow normal distribution but lets check the normality with a hypothesis test*"
      ],
      "metadata": {
        "id": "Bqjmc7lP7B_b"
      }
    },
    {
      "cell_type": "markdown",
      "metadata": {
        "id": "MMxwXmus8l8n"
      },
      "source": [
        "*Chisquare Normality Test*"
      ]
    },
    {
      "cell_type": "markdown",
      "metadata": {
        "id": "rIz_gs7s9LkM"
      },
      "source": [
        "**H0 : p-value < 0.1**\n",
        "\n",
        "**H1 : Not H0**  "
      ]
    },
    {
      "cell_type": "code",
      "metadata": {
        "id": "mj0kh3aq83lE"
      },
      "source": [
        "from scipy.stats import chisquare"
      ],
      "execution_count": null,
      "outputs": []
    },
    {
      "cell_type": "code",
      "metadata": {
        "id": "707JKQim4CtF",
        "colab": {
          "base_uri": "https://localhost:8080/"
        },
        "outputId": "3ff6ea05-5db3-4ae6-e6ca-503dedad1123"
      },
      "source": [
        "statisticc,pvaluec=chisquare(np.array(data['Close_ETF']))\n",
        "if pvaluec >0.1:\n",
        "  print(\"Probably Normal\")\n",
        "else:\n",
        "  print(pvaluec,'Not Normal')"
      ],
      "execution_count": null,
      "outputs": [
        {
          "output_type": "stream",
          "name": "stdout",
          "text": [
            "2.424399027686918e-10 Not Normal\n"
          ]
        }
      ]
    },
    {
      "cell_type": "code",
      "metadata": {
        "id": "MKcCRBFI6Rbu",
        "colab": {
          "base_uri": "https://localhost:8080/"
        },
        "outputId": "007fa13d-f7e2-4ea5-dd2a-542688dfbed0"
      },
      "source": [
        "statisticc,pvaluec=chisquare(np.array(norm_data['Close_ETF']))\n",
        "if pvaluec >0.1:\n",
        "  print(\"Probably Normal\")\n",
        "else:\n",
        "  print(pvaluec,'--')"
      ],
      "execution_count": null,
      "outputs": [
        {
          "output_type": "stream",
          "name": "stdout",
          "text": [
            "Probably Normal\n"
          ]
        }
      ]
    },
    {
      "cell_type": "code",
      "metadata": {
        "id": "O70h9X6q-8rr",
        "colab": {
          "base_uri": "https://localhost:8080/"
        },
        "outputId": "5e68e9bb-98c7-4e43-f9ae-f77ffa8e9815"
      },
      "source": [
        "statisticc,pvaluec=chisquare(np.array(data['oil']))\n",
        "if pvaluec >0.1:\n",
        "  print(\"Probably Normal\")\n",
        "else:\n",
        "  print(pvaluec,'--')"
      ],
      "execution_count": null,
      "outputs": [
        {
          "output_type": "stream",
          "name": "stdout",
          "text": [
            "Probably Normal\n"
          ]
        }
      ]
    },
    {
      "cell_type": "code",
      "metadata": {
        "id": "JMgSatb-Ffcz",
        "colab": {
          "base_uri": "https://localhost:8080/"
        },
        "outputId": "20b17672-73bd-49db-a63c-2376e1490378"
      },
      "source": [
        "statisticc,pvaluec=chisquare(np.array(data['gold']))\n",
        "if pvaluec >0.1:\n",
        "  print(\"Probably Normal\")\n",
        "else:\n",
        "  print(pvaluec,'--')"
      ],
      "execution_count": null,
      "outputs": [
        {
          "output_type": "stream",
          "name": "stdout",
          "text": [
            "Probably Normal\n"
          ]
        }
      ]
    },
    {
      "cell_type": "code",
      "metadata": {
        "id": "8CSPNTDXFg8D",
        "colab": {
          "base_uri": "https://localhost:8080/"
        },
        "outputId": "b7b41a5b-3775-4701-f318-2ef64afac37a"
      },
      "source": [
        "statisticc,pvaluec=chisquare(np.array(data['JPM']))\n",
        "if pvaluec >0.1:\n",
        "  print(\"Probably Normal\")\n",
        "else:\n",
        "  print(pvaluec,'--')"
      ],
      "execution_count": null,
      "outputs": [
        {
          "output_type": "stream",
          "name": "stdout",
          "text": [
            "Probably Normal\n"
          ]
        }
      ]
    },
    {
      "cell_type": "markdown",
      "metadata": {
        "id": "dFcAURzQFqox"
      },
      "source": [
        "*We can observe that from the distribution plots and also the chisquare normality test that except Close_ETF remaining three variables approximately follow the normal distribution*"
      ]
    },
    {
      "cell_type": "markdown",
      "metadata": {
        "id": "LSMl0Jv5GhGo"
      },
      "source": [
        "**Part 4: Break your data into small groups and let them discuss the importance of the Central Limit Theorem**"
      ]
    },
    {
      "cell_type": "markdown",
      "metadata": {
        "id": "jZ8kBqyusXVe"
      },
      "source": [
        "*Part 4 of the project is completely based on the central limit theorem and the significance of it. The central limit theorem (CLT) states that the distribution of sample means approximates a normal distribution as the sample size gets larger, regardless of the population's distribution. Sample sizes equal to or greater than 30 are often considered sufficient for the CLT to hold. Here the data satisfies the condition for central limit theorem. So, lets explore the significance of the central limit theorem.*"
      ]
    },
    {
      "cell_type": "markdown",
      "metadata": {
        "id": "_Zh5onRXHA1Y"
      },
      "source": [
        "*Consider the ETF column (1000 values) as the population (x)*"
      ]
    },
    {
      "cell_type": "markdown",
      "metadata": {
        "id": "6g4DIclUH7kv"
      },
      "source": [
        "*1)Calculate the mean μ_x  and the standard deviation σ_x  of the population*"
      ]
    },
    {
      "cell_type": "code",
      "metadata": {
        "id": "X4jQAVm3FjB5",
        "colab": {
          "base_uri": "https://localhost:8080/"
        },
        "outputId": "8722ead1-c2f0-4359-b7b6-4c008abe71ab"
      },
      "source": [
        "meanx=np.mean(data['Close_ETF'])\n",
        "print('The mean of Population Close_ETF is',meanx)\n",
        "stdx=np.std(data['Close_ETF'])\n",
        "print('The standard deviation of Population Close_ETF is',stdx)"
      ],
      "execution_count": null,
      "outputs": [
        {
          "output_type": "stream",
          "name": "stdout",
          "text": [
            "The mean of Population Close_ETF is 121.1529600120001\n",
            "The standard deviation of Population Close_ETF is 12.563503845944297\n"
          ]
        }
      ]
    },
    {
      "cell_type": "markdown",
      "metadata": {
        "id": "w5mFLK0JIQ54"
      },
      "source": [
        "*2)\tBreak the population into 50 groups sequentially and each group includes 20 values*"
      ]
    },
    {
      "cell_type": "code",
      "metadata": {
        "id": "jZK_LmXJHG4D",
        "colab": {
          "base_uri": "https://localhost:8080/"
        },
        "outputId": "86b29bab-1774-4deb-b708-c0230cfe9c01"
      },
      "source": [
        "#Population\n",
        "p=list(data['Close_ETF'])\n",
        "#print(p)\n",
        "len(p)"
      ],
      "execution_count": null,
      "outputs": [
        {
          "output_type": "execute_result",
          "data": {
            "text/plain": [
              "1000"
            ]
          },
          "metadata": {},
          "execution_count": 34
        }
      ]
    },
    {
      "cell_type": "code",
      "metadata": {
        "id": "Jqvp35iHHn-t"
      },
      "source": [
        "px=p\n",
        "samp=[[]]*50\n",
        "import random\n",
        "for i in range(int(len(p)/20)):\n",
        "  samp[i]=random.sample(p,20)\n",
        "  #print(samp)\n",
        "  pi=samp[i]\n",
        "  px=[k for k in px if k not in pi]"
      ],
      "execution_count": null,
      "outputs": []
    },
    {
      "cell_type": "markdown",
      "metadata": {
        "id": "FdiONXHQGRr1"
      },
      "source": [
        "*Calculate the sample mean (¯x) of each group. Draw a histogram of all the sample means. Comment on the distribution of these sample means, i.e., use the histogram to assess the normality of the data consisting of these sample means.*"
      ]
    },
    {
      "cell_type": "code",
      "metadata": {
        "id": "dw3AUKa9W5AR",
        "colab": {
          "base_uri": "https://localhost:8080/"
        },
        "outputId": "ea6017bb-e906-4661-8637-3f941881dcd3"
      },
      "source": [
        "for i in range(int(len(p)/20)):\n",
        "  print('The mean of sample',i+1,'is',np.mean(samp[i]))"
      ],
      "execution_count": null,
      "outputs": [
        {
          "output_type": "stream",
          "name": "stdout",
          "text": [
            "The mean of sample 1 is 122.2140007\n",
            "The mean of sample 2 is 122.69400055000001\n",
            "The mean of sample 3 is 119.61749995\n",
            "The mean of sample 4 is 121.17299874999999\n",
            "The mean of sample 5 is 118.13200035000003\n",
            "The mean of sample 6 is 116.78849989999999\n",
            "The mean of sample 7 is 125.58949885000001\n",
            "The mean of sample 8 is 121.90600045000001\n",
            "The mean of sample 9 is 117.23600015\n",
            "The mean of sample 10 is 121.71900130000002\n",
            "The mean of sample 11 is 118.8440009\n",
            "The mean of sample 12 is 126.09500125\n",
            "The mean of sample 13 is 118.74999995\n",
            "The mean of sample 14 is 122.64449925\n",
            "The mean of sample 15 is 121.18500014999998\n",
            "The mean of sample 16 is 119.74100095000001\n",
            "The mean of sample 17 is 123.5690003\n",
            "The mean of sample 18 is 118.54849970000001\n",
            "The mean of sample 19 is 119.50250009999999\n",
            "The mean of sample 20 is 116.29249909999999\n",
            "The mean of sample 21 is 120.54500010000001\n",
            "The mean of sample 22 is 117.17499959999998\n",
            "The mean of sample 23 is 118.31200064999999\n",
            "The mean of sample 24 is 120.15799940000002\n",
            "The mean of sample 25 is 120.01549945\n",
            "The mean of sample 26 is 120.68900000000001\n",
            "The mean of sample 27 is 118.54600020000001\n",
            "The mean of sample 28 is 122.08349954999998\n",
            "The mean of sample 29 is 124.59700009999999\n",
            "The mean of sample 30 is 121.74050060000002\n",
            "The mean of sample 31 is 121.99949875\n",
            "The mean of sample 32 is 125.11799969999997\n",
            "The mean of sample 33 is 120.20550039999998\n",
            "The mean of sample 34 is 126.06350065\n",
            "The mean of sample 35 is 122.68200045\n",
            "The mean of sample 36 is 123.15199955\n",
            "The mean of sample 37 is 122.17949905\n",
            "The mean of sample 38 is 118.75549965000002\n",
            "The mean of sample 39 is 118.91950084999999\n",
            "The mean of sample 40 is 119.49099994999999\n",
            "The mean of sample 41 is 120.33300025000001\n",
            "The mean of sample 42 is 115.53550070000001\n",
            "The mean of sample 43 is 120.36800035000002\n",
            "The mean of sample 44 is 116.26900024999998\n",
            "The mean of sample 45 is 116.71149875\n",
            "The mean of sample 46 is 120.48199885\n",
            "The mean of sample 47 is 118.94049985\n",
            "The mean of sample 48 is 125.59749919999999\n",
            "The mean of sample 49 is 119.20250045\n",
            "The mean of sample 50 is 122.27650065\n"
          ]
        }
      ]
    },
    {
      "cell_type": "code",
      "metadata": {
        "id": "mhiODs_8EBm_"
      },
      "source": [
        "sample_means=[]\n",
        "for i in range(50):\n",
        "  sample_means.append(np.mean(samp[i]))"
      ],
      "execution_count": null,
      "outputs": []
    },
    {
      "cell_type": "code",
      "metadata": {
        "id": "ZYY6acNzF7ZP",
        "colab": {
          "base_uri": "https://localhost:8080/",
          "height": 283
        },
        "outputId": "4bf36106-cfbb-4432-b70f-886baa97e92c"
      },
      "source": [
        "sns.histplot(sample_means)"
      ],
      "execution_count": null,
      "outputs": [
        {
          "output_type": "execute_result",
          "data": {
            "text/plain": [
              "<matplotlib.axes._subplots.AxesSubplot at 0x7f29ca44db10>"
            ]
          },
          "metadata": {},
          "execution_count": 38
        },
        {
          "output_type": "display_data",
          "data": {
            "image/png": "[encoded data removed]",
            "text/plain": [
              "<Figure size 432x288 with 1 Axes>"
            ]
          },
          "metadata": {
            "needs_background": "light"
          }
        }
      ]
    },
    {
      "cell_type": "code",
      "metadata": {
        "id": "pX57ZvvfF_j1",
        "colab": {
          "base_uri": "https://localhost:8080/",
          "height": 340
        },
        "outputId": "03f90283-8ea9-4dcf-97c1-946463e4825b"
      },
      "source": [
        "sns.distplot(sample_means)"
      ],
      "execution_count": null,
      "outputs": [
        {
          "output_type": "stream",
          "name": "stderr",
          "text": [
            "/usr/local/lib/python3.7/dist-packages/seaborn/distributions.py:2619: FutureWarning: `distplot` is a deprecated function and will be removed in a future version. Please adapt your code to use either `displot` (a figure-level function with similar flexibility) or `histplot` (an axes-level function for histograms).\n",
            "  warnings.warn(msg, FutureWarning)\n"
          ]
        },
        {
          "output_type": "execute_result",
          "data": {
            "text/plain": [
              "<matplotlib.axes._subplots.AxesSubplot at 0x7f29ca3d0f10>"
            ]
          },
          "metadata": {},
          "execution_count": 39
        },
        {
          "output_type": "display_data",
          "data": {
            "image/png": "[encoded data removed]",
            "text/plain": [
              "<Figure size 432x288 with 1 Axes>"
            ]
          },
          "metadata": {
            "needs_background": "light"
          }
        }
      ]
    },
    {
      "cell_type": "code",
      "metadata": {
        "id": "5N_5aqwNGFwj",
        "colab": {
          "base_uri": "https://localhost:8080/"
        },
        "outputId": "34c1e467-34fc-44b4-835d-9072603a4aae"
      },
      "source": [
        "statisticc,pvaluec=chisquare(np.array(sample_means))\n",
        "if pvaluec >0.1:\n",
        "  print(\"Probably Normal\")\n",
        "else:\n",
        "  print(pvaluec,'--')"
      ],
      "execution_count": null,
      "outputs": [
        {
          "output_type": "stream",
          "name": "stdout",
          "text": [
            "Probably Normal\n"
          ]
        }
      ]
    },
    {
      "cell_type": "markdown",
      "metadata": {
        "id": "Ty5h_2L4shQa"
      },
      "source": [
        "*From the distribution plot we can see that the sample means approximately follow a normal distribution, but we must check with a normality test to be sure. Use chi-square normality test for the sample means normality test, the results shown by the normality is ‘Probably normal’. By looking at the plot we can’t be sure of whether the distribution is normal or not. Here the central limit theorem comes into play, the count is 50, so the condition for central limit theorem condition is satisfied. Therefore, the distribution is made approximately normal by the central limit theorem.*"
      ]
    },
    {
      "cell_type": "markdown",
      "metadata": {
        "id": "EfxOkdeUHJFL"
      },
      "source": [
        "*4)Calculate the mean (〖μ〗_¯x )  and the standard deviation (σ_¯x) of the data including these sample means. Make a comparison between μ_x and μ_¯x , between ( σ_x)/√n and σ_¯x . Here, n is the number of sample means calculated from Item 3) above.*"
      ]
    },
    {
      "cell_type": "code",
      "metadata": {
        "id": "hJqJkou2G6WI",
        "colab": {
          "base_uri": "https://localhost:8080/"
        },
        "outputId": "04db4979-62f1-48a4-bbf9-52ede10cefa2"
      },
      "source": [
        "mean_sm=np.mean(sample_means)\n",
        "std_sm=np.std(sample_means)\n",
        "print('The mean of Sample Means is',mean_sm)\n",
        "print('The standard deviation of Sample Means is',std_sm)"
      ],
      "execution_count": null,
      "outputs": [
        {
          "output_type": "stream",
          "name": "stdout",
          "text": [
            "The mean of Sample Means is 120.60770001100002\n",
            "The standard deviation of Sample Means is 2.6433153998024967\n"
          ]
        }
      ]
    },
    {
      "cell_type": "code",
      "metadata": {
        "id": "3YIrrFOMIDo9"
      },
      "source": [
        "Comparison={'Data':['ETF','Samples'],'Mean':[mean_ETF,mean_sm],'Standard Deviation':[std_ETF/(np.sqrt(20)),std_sm]}"
      ],
      "execution_count": null,
      "outputs": []
    },
    {
      "cell_type": "code",
      "metadata": {
        "id": "pVA1yKe3HpJv",
        "colab": {
          "base_uri": "https://localhost:8080/"
        },
        "outputId": "055838a0-3c3d-4544-d9dd-0bf7e29c48ee"
      },
      "source": [
        "from tabulate import tabulate\n",
        "print(tabulate(Comparison,headers='keys',tablefmt='fancy_grid',showindex=range(1,3)))"
      ],
      "execution_count": null,
      "outputs": [
        {
          "output_type": "stream",
          "name": "stdout",
          "text": [
            "╒════╤═════════╤═════════╤══════════════════════╕\n",
            "│    │ Data    │    Mean │   Standard Deviation │\n",
            "╞════╪═════════╪═════════╪══════════════════════╡\n",
            "│  1 │ ETF     │ 121.153 │              2.81069 │\n",
            "├────┼─────────┼─────────┼──────────────────────┤\n",
            "│  2 │ Samples │ 120.608 │              2.64332 │\n",
            "╘════╧═════════╧═════════╧══════════════════════╛\n"
          ]
        }
      ]
    },
    {
      "cell_type": "markdown",
      "metadata": {
        "id": "nw6kRuVZsros"
      },
      "source": [
        "*The above table represents the comparison of means and standard deviation of the actual Random variable and the samples.We can observe that the values obtained by sampling are nearly equal to the actual ones. So, we can state that for getting information of the population we don’t exactly need the whole population we can have the samples, and these samples give enough information about the population.*"
      ]
    },
    {
      "cell_type": "markdown",
      "metadata": {
        "id": "_3s7-9-LJkT5"
      },
      "source": [
        "*5)\tAre the results from Items 3) and 4) consistent with the Central Limit Theorem? Why?*"
      ]
    },
    {
      "cell_type": "markdown",
      "metadata": {
        "id": "r6m7RholNXA9"
      },
      "source": [
        "*The distribution of sample means is approximately normal and the results of 4 are almost similar to the actual population.Therefore the results are consistent with central limit theorem*"
      ]
    },
    {
      "cell_type": "markdown",
      "metadata": {
        "id": "-Ln1N04BJ_zF"
      },
      "source": [
        "*6)\tBreak the population into 10 groups sequentially and each group includes 100 values.*"
      ]
    },
    {
      "cell_type": "code",
      "metadata": {
        "id": "Biewab0vJ8M-"
      },
      "source": [
        "px=p\n",
        "samp1=[[]]*10\n",
        "import random\n",
        "for i in range(int(len(p)/100)):\n",
        "  samp1[i]=random.sample(p,100)\n",
        "  #print(samp)\n",
        "  pi=samp1[i]\n",
        "  px=[k for k in px if k not in pi]"
      ],
      "execution_count": null,
      "outputs": []
    },
    {
      "cell_type": "markdown",
      "metadata": {
        "id": "x1JJTZCQLYZ1"
      },
      "source": [
        "*7)\tRepeat Items 3) ~ 5).*"
      ]
    },
    {
      "cell_type": "code",
      "metadata": {
        "id": "nJCJiL-_KHjq",
        "colab": {
          "base_uri": "https://localhost:8080/"
        },
        "outputId": "d3928ed1-313a-4a64-e392-7a5160bd2e73"
      },
      "source": [
        "for i in range(int(len(p)/100)):\n",
        "  print('The mean of sample',i+1,'is',np.mean(samp1[i]))"
      ],
      "execution_count": null,
      "outputs": [
        {
          "output_type": "stream",
          "name": "stdout",
          "text": [
            "The mean of sample 1 is 119.26419998999998\n",
            "The mean of sample 2 is 121.82819989\n",
            "The mean of sample 3 is 120.98240023\n",
            "The mean of sample 4 is 119.63449945000002\n",
            "The mean of sample 5 is 119.59860034000002\n",
            "The mean of sample 6 is 120.83919952999999\n",
            "The mean of sample 7 is 120.60910012000002\n",
            "The mean of sample 8 is 119.49030011\n",
            "The mean of sample 9 is 121.65109968\n",
            "The mean of sample 10 is 123.53180003999998\n"
          ]
        }
      ]
    },
    {
      "cell_type": "code",
      "metadata": {
        "id": "81yOXHmXKirq"
      },
      "source": [
        "sample_means1=[]\n",
        "for i in range(10):\n",
        "  sample_means1.append(np.mean(samp1[i]))"
      ],
      "execution_count": null,
      "outputs": []
    },
    {
      "cell_type": "code",
      "metadata": {
        "id": "HyhI2ctTKL6q",
        "colab": {
          "base_uri": "https://localhost:8080/",
          "height": 283
        },
        "outputId": "0d2bf1e0-332a-4c9b-9e8f-9e1f68553c51"
      },
      "source": [
        "sns.histplot(sample_means1)"
      ],
      "execution_count": null,
      "outputs": [
        {
          "output_type": "execute_result",
          "data": {
            "text/plain": [
              "<matplotlib.axes._subplots.AxesSubplot at 0x7f29cc7c1b90>"
            ]
          },
          "metadata": {},
          "execution_count": 47
        },
        {
          "output_type": "display_data",
          "data": {
            "image/png": "[encoded data removed]",
            "text/plain": [
              "<Figure size 432x288 with 1 Axes>"
            ]
          },
          "metadata": {
            "needs_background": "light"
          }
        }
      ]
    },
    {
      "cell_type": "code",
      "metadata": {
        "id": "LrDeYwJuKPNp",
        "colab": {
          "base_uri": "https://localhost:8080/",
          "height": 340
        },
        "outputId": "4ea1d884-742c-47e6-8b80-6a5388472e42"
      },
      "source": [
        "sns.distplot(sample_means1)"
      ],
      "execution_count": null,
      "outputs": [
        {
          "output_type": "stream",
          "name": "stderr",
          "text": [
            "/usr/local/lib/python3.7/dist-packages/seaborn/distributions.py:2619: FutureWarning: `distplot` is a deprecated function and will be removed in a future version. Please adapt your code to use either `displot` (a figure-level function with similar flexibility) or `histplot` (an axes-level function for histograms).\n",
            "  warnings.warn(msg, FutureWarning)\n"
          ]
        },
        {
          "output_type": "execute_result",
          "data": {
            "text/plain": [
              "<matplotlib.axes._subplots.AxesSubplot at 0x7f29ca26a050>"
            ]
          },
          "metadata": {},
          "execution_count": 48
        },
        {
          "output_type": "display_data",
          "data": {
            "image/png": "[encoded data removed]",
            "text/plain": [
              "<Figure size 432x288 with 1 Axes>"
            ]
          },
          "metadata": {
            "needs_background": "light"
          }
        }
      ]
    },
    {
      "cell_type": "code",
      "metadata": {
        "id": "A0jYxMesKZfP",
        "colab": {
          "base_uri": "https://localhost:8080/"
        },
        "outputId": "1aca806e-5d32-449e-f9ee-cda1aa04f0c9"
      },
      "source": [
        "statisticc,pvaluec=chisquare(np.array(sample_means1))\n",
        "if pvaluec >0.1:\n",
        "  print(\"Probably Normal\")\n",
        "else:\n",
        "  print(pvaluec,'--')"
      ],
      "execution_count": null,
      "outputs": [
        {
          "output_type": "stream",
          "name": "stdout",
          "text": [
            "Probably Normal\n"
          ]
        }
      ]
    },
    {
      "cell_type": "markdown",
      "metadata": {
        "id": "fje0Htc_slS7"
      },
      "source": [
        "*From the distribution plot we can see that the sample means approximately follow a normal distribution, but we must check with a normality test to be sure. Use chi-square normality test for the sample means normality test, the results shown by the normality is ‘Probably normal’. By looking at the plot we can’t be sure of whether the distribution is normal or not. The size of the sample has become larger when compared to the previous sampling and the distribution has become more approximately normal.*"
      ]
    },
    {
      "cell_type": "code",
      "metadata": {
        "id": "yXlcJehOKr1A",
        "colab": {
          "base_uri": "https://localhost:8080/"
        },
        "outputId": "2ce4db3f-fa24-450f-877b-0cd330e7d460"
      },
      "source": [
        "mean_sm=np.mean(sample_means1)\n",
        "std_sm=np.std(sample_means1)\n",
        "print('The mean of Sample Means is',mean_sm)\n",
        "print('The standard deviation of Sample Means is',std_sm)"
      ],
      "execution_count": null,
      "outputs": [
        {
          "output_type": "stream",
          "name": "stdout",
          "text": [
            "The mean of Sample Means is 120.74293993799999\n",
            "The standard deviation of Sample Means is 1.2711701691670636\n"
          ]
        }
      ]
    },
    {
      "cell_type": "code",
      "metadata": {
        "id": "lmk2wGT1LCSy",
        "colab": {
          "base_uri": "https://localhost:8080/"
        },
        "outputId": "965dc8cb-e6b2-417a-e733-54cc6cdfc219"
      },
      "source": [
        "Comparison={'Data':['ETF','Samples'],'Mean':[mean_ETF,mean_sm],'Standard Deviation':[std_ETF/(np.sqrt(100)),std_sm]}\n",
        "print(tabulate(Comparison,headers='keys',tablefmt='fancy_grid',showindex=range(1,3)))"
      ],
      "execution_count": null,
      "outputs": [
        {
          "output_type": "stream",
          "name": "stdout",
          "text": [
            "╒════╤═════════╤═════════╤══════════════════════╕\n",
            "│    │ Data    │    Mean │   Standard Deviation │\n",
            "╞════╪═════════╪═════════╪══════════════════════╡\n",
            "│  1 │ ETF     │ 121.153 │              1.25698 │\n",
            "├────┼─────────┼─────────┼──────────────────────┤\n",
            "│  2 │ Samples │ 120.743 │              1.27117 │\n",
            "╘════╧═════════╧═════════╧══════════════════════╛\n"
          ]
        }
      ]
    },
    {
      "cell_type": "markdown",
      "metadata": {
        "id": "W3qj3crgsyCd"
      },
      "source": [
        "*The above table represents the comparison of means and standard deviation of the actual Random variable and the samples.We can observe that the values obtained by sampling are nearly equal to the actual ones. So, we can state that for getting information of the population we don’t exactly need the whole population we can have the samples, and these samples give enough information about the population.*"
      ]
    },
    {
      "cell_type": "markdown",
      "metadata": {
        "id": "rMATzIR2Ljtk"
      },
      "source": [
        "*Are the results from Items 3) and 4) consistent with the Central Limit Theorem? Why?*"
      ]
    },
    {
      "cell_type": "markdown",
      "metadata": {
        "id": "Ng_byJuFNrl8"
      },
      "source": [
        "*The distribution of sample means is approximately normal and the results of 4 are almost similar to the actual population.Therefore the results are consistent with central limit theorem*"
      ]
    },
    {
      "cell_type": "markdown",
      "metadata": {
        "id": "4XuMgBXYLw7a"
      },
      "source": [
        "*8)\tGenerate 50 simple random samples or groups (with replacement) from the population. The size of each sample is 20, i.e., each group includes 20 values.*"
      ]
    },
    {
      "cell_type": "code",
      "metadata": {
        "id": "_u87jl9-LjCe"
      },
      "source": [
        "samp2=[[]]*50\n",
        "for i in range(50):\n",
        "  samp2[i]=random.sample(p,20)"
      ],
      "execution_count": null,
      "outputs": []
    },
    {
      "cell_type": "code",
      "metadata": {
        "id": "o2IqW8LsMP6m",
        "colab": {
          "base_uri": "https://localhost:8080/"
        },
        "outputId": "e4275782-5fd3-4366-fc95-acb69bba7db1"
      },
      "source": [
        "for i in range(50):\n",
        "  print('The mean of sample',i+1,'is',np.mean(samp2[i]))"
      ],
      "execution_count": null,
      "outputs": [
        {
          "output_type": "stream",
          "name": "stdout",
          "text": [
            "The mean of sample 1 is 122.03349985\n",
            "The mean of sample 2 is 121.32849930000002\n",
            "The mean of sample 3 is 124.69350084999999\n",
            "The mean of sample 4 is 118.8384998\n",
            "The mean of sample 5 is 118.3200009\n",
            "The mean of sample 6 is 121.2665005\n",
            "The mean of sample 7 is 121.04150045000002\n",
            "The mean of sample 8 is 121.4960014\n",
            "The mean of sample 9 is 119.2129997\n",
            "The mean of sample 10 is 120.72649965000001\n",
            "The mean of sample 11 is 120.59950054999999\n",
            "The mean of sample 12 is 118.64300045\n",
            "The mean of sample 13 is 120.30650030000001\n",
            "The mean of sample 14 is 116.51599995000001\n",
            "The mean of sample 15 is 119.64849964999999\n",
            "The mean of sample 16 is 115.16750024999999\n",
            "The mean of sample 17 is 121.71350104999996\n",
            "The mean of sample 18 is 116.28449975000001\n",
            "The mean of sample 19 is 119.1365001\n",
            "The mean of sample 20 is 127.0639999\n",
            "The mean of sample 21 is 123.70099945000001\n",
            "The mean of sample 22 is 122.78799925000001\n",
            "The mean of sample 23 is 121.0255009\n",
            "The mean of sample 24 is 126.42150079999999\n",
            "The mean of sample 25 is 123.22100060000002\n",
            "The mean of sample 26 is 117.29500080000003\n",
            "The mean of sample 27 is 125.11499975\n",
            "The mean of sample 28 is 121.57550039999998\n",
            "The mean of sample 29 is 118.29199945\n",
            "The mean of sample 30 is 123.53450085000004\n",
            "The mean of sample 31 is 128.38650049999998\n",
            "The mean of sample 32 is 125.96000024999998\n",
            "The mean of sample 33 is 118.5489998\n",
            "The mean of sample 34 is 126.94250114999997\n",
            "The mean of sample 35 is 117.40399975\n",
            "The mean of sample 36 is 118.1085007\n",
            "The mean of sample 37 is 120.21550019999998\n",
            "The mean of sample 38 is 118.25750129999999\n",
            "The mean of sample 39 is 119.5485004\n",
            "The mean of sample 40 is 121.3315\n",
            "The mean of sample 41 is 118.86900025\n",
            "The mean of sample 42 is 120.86149900000001\n",
            "The mean of sample 43 is 116.63349875000002\n",
            "The mean of sample 44 is 119.79100005000002\n",
            "The mean of sample 45 is 122.25849980000001\n",
            "The mean of sample 46 is 119.56200064999999\n",
            "The mean of sample 47 is 121.75500034999997\n",
            "The mean of sample 48 is 124.27949894999999\n",
            "The mean of sample 49 is 117.85349995000001\n",
            "The mean of sample 50 is 117.54199985\n"
          ]
        }
      ]
    },
    {
      "cell_type": "code",
      "metadata": {
        "id": "EyIRKhSGMmU1"
      },
      "source": [
        "sample_means2=[]\n",
        "for i in range(50):\n",
        "  sample_means2.append(np.mean(samp2[i]))"
      ],
      "execution_count": null,
      "outputs": []
    },
    {
      "cell_type": "code",
      "metadata": {
        "id": "B8XsbFWoMsXV",
        "colab": {
          "base_uri": "https://localhost:8080/",
          "height": 283
        },
        "outputId": "2700947c-acd8-42d4-b995-1448a545a9d6"
      },
      "source": [
        "sns.histplot(sample_means2)"
      ],
      "execution_count": null,
      "outputs": [
        {
          "output_type": "execute_result",
          "data": {
            "text/plain": [
              "<matplotlib.axes._subplots.AxesSubplot at 0x7f29ca229ad0>"
            ]
          },
          "metadata": {},
          "execution_count": 55
        },
        {
          "output_type": "display_data",
          "data": {
            "image/png": "[encoded data removed]",
            "text/plain": [
              "<Figure size 432x288 with 1 Axes>"
            ]
          },
          "metadata": {
            "needs_background": "light"
          }
        }
      ]
    },
    {
      "cell_type": "code",
      "metadata": {
        "id": "cH4DB1UQMwkS",
        "colab": {
          "base_uri": "https://localhost:8080/",
          "height": 340
        },
        "outputId": "f528b08f-986a-4a1b-e0b3-483079972abd"
      },
      "source": [
        "sns.distplot(sample_means2)"
      ],
      "execution_count": null,
      "outputs": [
        {
          "output_type": "stream",
          "name": "stderr",
          "text": [
            "/usr/local/lib/python3.7/dist-packages/seaborn/distributions.py:2619: FutureWarning: `distplot` is a deprecated function and will be removed in a future version. Please adapt your code to use either `displot` (a figure-level function with similar flexibility) or `histplot` (an axes-level function for histograms).\n",
            "  warnings.warn(msg, FutureWarning)\n"
          ]
        },
        {
          "output_type": "execute_result",
          "data": {
            "text/plain": [
              "<matplotlib.axes._subplots.AxesSubplot at 0x7f29ca1dd350>"
            ]
          },
          "metadata": {},
          "execution_count": 56
        },
        {
          "output_type": "display_data",
          "data": {
            "image/png": "[encoded data removed]",
            "text/plain": [
              "<Figure size 432x288 with 1 Axes>"
            ]
          },
          "metadata": {
            "needs_background": "light"
          }
        }
      ]
    },
    {
      "cell_type": "code",
      "metadata": {
        "id": "9MMb0DhDMzhh",
        "colab": {
          "base_uri": "https://localhost:8080/"
        },
        "outputId": "bb7d6a87-eda0-42dd-cd8c-335401d314e6"
      },
      "source": [
        "statisticc,pvaluec=chisquare(np.array(sample_means2))\n",
        "if pvaluec >0.1:\n",
        "  print(\"Probably Normal\")\n",
        "else:\n",
        "  print(pvaluec,'--')"
      ],
      "execution_count": null,
      "outputs": [
        {
          "output_type": "stream",
          "name": "stdout",
          "text": [
            "Probably Normal\n"
          ]
        }
      ]
    },
    {
      "cell_type": "markdown",
      "metadata": {
        "id": "BlSdwjGms2J9"
      },
      "source": [
        "*From the distribution plot we can see that the sample means approximately follow a normal distribution, but we must check with a normality test to be sure. Use chi-square normality test for the sample means normality test, the results shown by the normality is ‘Probably normal’. By looking at the plot we can’t be sure of whether the distribution is normal or not. Here the central limit theorem comes into play, the sample size is 50, so the condition for central limit theorem condition is satisfied. Therefore, the distribution is made approximately normal by the central limit theorem.*"
      ]
    },
    {
      "cell_type": "code",
      "metadata": {
        "id": "XGRwLXowM21L",
        "colab": {
          "base_uri": "https://localhost:8080/"
        },
        "outputId": "a0639999-f0e2-4242-81ed-236870ecad87"
      },
      "source": [
        "mean_sm=np.mean(sample_means2)\n",
        "std_sm=np.std(sample_means2)\n",
        "print('The mean of Sample Means is',mean_sm)\n",
        "print('The standard deviation of Sample Means is',std_sm)"
      ],
      "execution_count": null,
      "outputs": [
        {
          "output_type": "stream",
          "name": "stdout",
          "text": [
            "The mean of Sample Means is 120.822300165\n",
            "The standard deviation of Sample Means is 3.024686482894607\n"
          ]
        }
      ]
    },
    {
      "cell_type": "code",
      "metadata": {
        "id": "TLElYa6CM7DU",
        "colab": {
          "base_uri": "https://localhost:8080/"
        },
        "outputId": "fae6df4d-581b-4e04-8292-7d96052d0d14"
      },
      "source": [
        "Comparison={'Data':['ETF','Samples'],'Mean':[mean_ETF,mean_sm],'Standard Deviation':[std_ETF/(np.sqrt(20)),std_sm]}\n",
        "print(tabulate(Comparison,headers='keys',tablefmt='fancy_grid',showindex=range(1,3)))"
      ],
      "execution_count": null,
      "outputs": [
        {
          "output_type": "stream",
          "name": "stdout",
          "text": [
            "╒════╤═════════╤═════════╤══════════════════════╕\n",
            "│    │ Data    │    Mean │   Standard Deviation │\n",
            "╞════╪═════════╪═════════╪══════════════════════╡\n",
            "│  1 │ ETF     │ 121.153 │              2.81069 │\n",
            "├────┼─────────┼─────────┼──────────────────────┤\n",
            "│  2 │ Samples │ 120.822 │              3.02469 │\n",
            "╘════╧═════════╧═════════╧══════════════════════╛\n"
          ]
        }
      ]
    },
    {
      "cell_type": "markdown",
      "metadata": {
        "id": "M8-mAntLs8lT"
      },
      "source": [
        "*The above table represents the comparison of means and standard deviation of the actual Random variable and the samples.We can observe that the values obtained by sampling are nearly equal to the actual ones. So, we can state that for getting information of the population we don’t exactly need the whole population we can have the samples, and these samples give enough information about the population.*"
      ]
    },
    {
      "cell_type": "markdown",
      "metadata": {
        "id": "WjRGrsOuNOdM"
      },
      "source": [
        "*Are the results from Items 3) and 4) consistent with the Central Limit Theorem? Why?*"
      ]
    },
    {
      "cell_type": "markdown",
      "metadata": {
        "id": "0qgkzKj5NvvV"
      },
      "source": [
        "*The distribution of sample means is approximately normal and the results of 4 are almost similar to the actual population.Therefore the results are consistent with central limit theorem*"
      ]
    },
    {
      "cell_type": "markdown",
      "metadata": {
        "id": "362l2M9sNSA5"
      },
      "source": [
        "*10)\tGenerate 10 simple random samples or groups (with replacement) from the population. The size of each sample is 100, i.e., each group includes 100 values.*"
      ]
    },
    {
      "cell_type": "code",
      "metadata": {
        "id": "E1DmdHjaNQFs"
      },
      "source": [
        "samp3=[[]]*10\n",
        "for i in range(10):\n",
        "  samp3[i]=random.sample(p,100)"
      ],
      "execution_count": null,
      "outputs": []
    },
    {
      "cell_type": "code",
      "metadata": {
        "id": "Y7hkOBE0NarB",
        "colab": {
          "base_uri": "https://localhost:8080/"
        },
        "outputId": "c4eb5a51-03d5-49a9-b7d1-baf1ab3ea88f"
      },
      "source": [
        "for i in range(10):\n",
        "  print('The mean of sample',i+1,'is',np.mean(samp3[i]))"
      ],
      "execution_count": null,
      "outputs": [
        {
          "output_type": "stream",
          "name": "stdout",
          "text": [
            "The mean of sample 1 is 122.03610018999998\n",
            "The mean of sample 2 is 120.78129997999999\n",
            "The mean of sample 3 is 120.69599924999999\n",
            "The mean of sample 4 is 122.94949936999997\n",
            "The mean of sample 5 is 119.83999979000001\n",
            "The mean of sample 6 is 120.63059987000001\n",
            "The mean of sample 7 is 121.31330049999998\n",
            "The mean of sample 8 is 121.57349993999998\n",
            "The mean of sample 9 is 120.5484002\n",
            "The mean of sample 10 is 120.1482998\n"
          ]
        }
      ]
    },
    {
      "cell_type": "code",
      "metadata": {
        "id": "iBS9vw3sNduK"
      },
      "source": [
        "sample_means3=[]\n",
        "for i in range(10):\n",
        "  sample_means3.append(np.mean(samp3[i]))"
      ],
      "execution_count": null,
      "outputs": []
    },
    {
      "cell_type": "code",
      "metadata": {
        "id": "exhjCM9dNgok",
        "colab": {
          "base_uri": "https://localhost:8080/",
          "height": 283
        },
        "outputId": "bcfcfb02-b27e-4ebc-82da-a4a6ce7eebe2"
      },
      "source": [
        "sns.histplot(sample_means3)"
      ],
      "execution_count": null,
      "outputs": [
        {
          "output_type": "execute_result",
          "data": {
            "text/plain": [
              "<matplotlib.axes._subplots.AxesSubplot at 0x7f29ca15c9d0>"
            ]
          },
          "metadata": {},
          "execution_count": 63
        },
        {
          "output_type": "display_data",
          "data": {
            "image/png": "[encoded data removed]",
            "text/plain": [
              "<Figure size 432x288 with 1 Axes>"
            ]
          },
          "metadata": {
            "needs_background": "light"
          }
        }
      ]
    },
    {
      "cell_type": "code",
      "metadata": {
        "id": "FcuFK7YBNjKJ",
        "colab": {
          "base_uri": "https://localhost:8080/",
          "height": 340
        },
        "outputId": "27c2595b-1d00-4081-80d5-e08f39eb09ef"
      },
      "source": [
        "sns.distplot(sample_means3)"
      ],
      "execution_count": null,
      "outputs": [
        {
          "output_type": "stream",
          "name": "stderr",
          "text": [
            "/usr/local/lib/python3.7/dist-packages/seaborn/distributions.py:2619: FutureWarning: `distplot` is a deprecated function and will be removed in a future version. Please adapt your code to use either `displot` (a figure-level function with similar flexibility) or `histplot` (an axes-level function for histograms).\n",
            "  warnings.warn(msg, FutureWarning)\n"
          ]
        },
        {
          "output_type": "execute_result",
          "data": {
            "text/plain": [
              "<matplotlib.axes._subplots.AxesSubplot at 0x7f29ca122290>"
            ]
          },
          "metadata": {},
          "execution_count": 64
        },
        {
          "output_type": "display_data",
          "data": {
            "image/png": "[encoded data removed]",
            "text/plain": [
              "<Figure size 432x288 with 1 Axes>"
            ]
          },
          "metadata": {
            "needs_background": "light"
          }
        }
      ]
    },
    {
      "cell_type": "code",
      "metadata": {
        "id": "8mUTCypTNl4q",
        "colab": {
          "base_uri": "https://localhost:8080/"
        },
        "outputId": "d602906c-8504-42c0-af64-8ecb762ceede"
      },
      "source": [
        "statisticc,pvaluec=chisquare(np.array(sample_means3))\n",
        "if pvaluec >0.1:\n",
        "  print(\"Probably Normal\")\n",
        "else:\n",
        "  print(pvaluec,'--')"
      ],
      "execution_count": null,
      "outputs": [
        {
          "output_type": "stream",
          "name": "stdout",
          "text": [
            "Probably Normal\n"
          ]
        }
      ]
    },
    {
      "cell_type": "markdown",
      "metadata": {
        "id": "GVj1K8B5tAqy"
      },
      "source": [
        "*From the distribution plot we can see that the sample means approximately follow a normal distribution, but we must check with a normality test to be sure. Use chi-square normality test for the sample means normality test, the results shown by the normality is ‘Probably normal’. By looking at the plot we can’t be sure of whether the distribution is normal or not. The size of the sample has become larger when compared to the previous sampling and the distribution has become more approximately normal.*"
      ]
    },
    {
      "cell_type": "code",
      "metadata": {
        "id": "Sdwb0GO9Nq0h",
        "colab": {
          "base_uri": "https://localhost:8080/"
        },
        "outputId": "4ad2a592-9776-45b4-b824-c37152e54877"
      },
      "source": [
        "mean_sm=np.mean(sample_means3)\n",
        "std_sm=np.std(sample_means3)\n",
        "print('The mean of Sample Means is',mean_sm)\n",
        "print('The standard deviation of Sample Means is',std_sm)"
      ],
      "execution_count": null,
      "outputs": [
        {
          "output_type": "stream",
          "name": "stdout",
          "text": [
            "The mean of Sample Means is 121.05169988899998\n",
            "The standard deviation of Sample Means is 0.8846479924034796\n"
          ]
        }
      ]
    },
    {
      "cell_type": "code",
      "metadata": {
        "id": "DC8ckw45NuCl",
        "colab": {
          "base_uri": "https://localhost:8080/"
        },
        "outputId": "f7e2ad74-11a8-4e8a-be0b-b18371f6d196"
      },
      "source": [
        "Comparison={'Data':['ETF','Samples'],'Mean':[mean_ETF,mean_sm],'Standard Deviation':[std_ETF/(np.sqrt(100)),std_sm]}\n",
        "print(tabulate(Comparison,headers='keys',tablefmt='fancy_grid',showindex=range(1,3)))"
      ],
      "execution_count": null,
      "outputs": [
        {
          "output_type": "stream",
          "name": "stdout",
          "text": [
            "╒════╤═════════╤═════════╤══════════════════════╕\n",
            "│    │ Data    │    Mean │   Standard Deviation │\n",
            "╞════╪═════════╪═════════╪══════════════════════╡\n",
            "│  1 │ ETF     │ 121.153 │             1.25698  │\n",
            "├────┼─────────┼─────────┼──────────────────────┤\n",
            "│  2 │ Samples │ 121.052 │             0.884648 │\n",
            "╘════╧═════════╧═════════╧══════════════════════╛\n"
          ]
        }
      ]
    },
    {
      "cell_type": "markdown",
      "metadata": {
        "id": "gSsPWJtktEeJ"
      },
      "source": [
        "*The above table represents the comparison of means and standard deviation of the actual Random variable and the samples.We can observe that the values obtained by sampling are nearly equal to the actual ones. So, we can state that for getting information of the population we don’t exactly need the whole population we can have the samples, and these samples give enough information about the population.*"
      ]
    },
    {
      "cell_type": "markdown",
      "metadata": {
        "id": "6NZJM8q5NzyT"
      },
      "source": [
        "*Are the results from Items 3) and 4) consistent with the Central Limit Theorem? Why?*"
      ]
    },
    {
      "cell_type": "markdown",
      "metadata": {
        "id": "NJ0_8YbCNym2"
      },
      "source": [
        "*The distribution of sample means is approximately normal and the results of 4 are almost similar to the actual population.Therefore the results are consistent with central limit theorem*"
      ]
    },
    {
      "cell_type": "markdown",
      "metadata": {
        "id": "zDG73EBTN49M"
      },
      "source": [
        "*12)\tIn Part 3 of the project, you have figured out the distribution of the population (the entire ETF column). Does this information have any impact on the distribution of the sample mean(s)? Explain your answer*"
      ]
    },
    {
      "cell_type": "markdown",
      "metadata": {
        "id": "JYTzOla4tLij"
      },
      "source": [
        "*When we did sampling with a sample size of 20 the distribution plot is not as good as a normal distribution but because of the count it is approximately normal.Where as with sample size of 100 we can clearly see that the distribution plot is approximately normal which is the statement of central limit theorem.*\n",
        "\n",
        "*By sampling differently with different sizes we can state that the sample and the sample means gives us the most information about the population. From the results obtained we can observe that these are consistent with the central limit theorem.*"
      ]
    },
    {
      "cell_type": "markdown",
      "metadata": {
        "id": "Dtf-7W3vN_SZ"
      },
      "source": [
        "**Part 5: Construct a confidence interval with your data**"
      ]
    },
    {
      "cell_type": "markdown",
      "metadata": {
        "id": "r4bgNjBCOYyU"
      },
      "source": [
        "*1)Pick up one of the 10 simple random samples you generated in Step 10) of Part 4, construct an appropriate 95% confidence interval of the mean μ.*"
      ]
    },
    {
      "cell_type": "markdown",
      "metadata": {
        "id": "AtrXqRrntWYm"
      },
      "source": [
        "*In Part 5 we take a one random sample each from the set of samples with sizes 50 and 100 and find the confidence interval of the population mean from these samples.We then check whether the confidence intervals contains the actual population mean or not.*"
      ]
    },
    {
      "cell_type": "code",
      "metadata": {
        "id": "IwE39Na5OBaT",
        "colab": {
          "base_uri": "https://localhost:8080/"
        },
        "outputId": "30065b23-c7e3-456d-ad07-762381f0df05"
      },
      "source": [
        "i=np.random.randint(0,10)\n",
        "print(i)"
      ],
      "execution_count": null,
      "outputs": [
        {
          "output_type": "stream",
          "name": "stdout",
          "text": [
            "2\n"
          ]
        }
      ]
    },
    {
      "cell_type": "code",
      "metadata": {
        "id": "ObCwuPftQr5l",
        "colab": {
          "base_uri": "https://localhost:8080/"
        },
        "outputId": "b07a0751-17a3-414c-dc77-2dfe502e1f91"
      },
      "source": [
        "k=1.96*np.std(samp3[i])*0.1\n",
        "l=np.mean(samp3[i])-k\n",
        "u=np.mean(samp3[i])+k\n",
        "print('95% Confidence interval of the population mean is (',l,u,')')"
      ],
      "execution_count": null,
      "outputs": [
        {
          "output_type": "stream",
          "name": "stdout",
          "text": [
            "95% Confidence interval of the population mean is ( 118.2142916442747 123.17770685572528 )\n"
          ]
        }
      ]
    },
    {
      "cell_type": "markdown",
      "metadata": {
        "id": "Uog7HFv9SLTn"
      },
      "source": [
        "*2)Pick up one of the 50 simple random samples you generated in Step 8) of Part 4, construct an appropriate 95% confidence interval of the mean μ*"
      ]
    },
    {
      "cell_type": "code",
      "metadata": {
        "id": "ZJfr_3T5Rnng",
        "colab": {
          "base_uri": "https://localhost:8080/"
        },
        "outputId": "4cfdfc1d-074f-438b-832f-e6d66e4fa96f"
      },
      "source": [
        "j=np.random.randint(0,50)\n",
        "print(j)"
      ],
      "execution_count": null,
      "outputs": [
        {
          "output_type": "stream",
          "name": "stdout",
          "text": [
            "22\n"
          ]
        }
      ]
    },
    {
      "cell_type": "code",
      "metadata": {
        "id": "-QSIcsGWR4IW",
        "colab": {
          "base_uri": "https://localhost:8080/"
        },
        "outputId": "08ac8d50-5a29-481f-fe9c-65a8f1ef594d"
      },
      "source": [
        "k=1.96*np.std(samp2[j])/(np.sqrt(50))\n",
        "l1=np.mean(samp2[j])-k\n",
        "u1=np.mean(samp2[j])+k\n",
        "print('95% Confidence interval of the population mean is (',l1,u1,')')"
      ],
      "execution_count": null,
      "outputs": [
        {
          "output_type": "stream",
          "name": "stdout",
          "text": [
            "95% Confidence interval of the population mean is ( 117.03456535152898 125.01643644847101 )\n"
          ]
        }
      ]
    },
    {
      "cell_type": "markdown",
      "metadata": {
        "id": "ox1jIpUWSkqg"
      },
      "source": [
        "*3)In Part 1, you have calculated the mean μ of the population (the entire ETF column) using Excel function. Do the two intervals from 1) and 2) above include (the true value of) the mean μ? Which one is more accurate? Why?*"
      ]
    },
    {
      "cell_type": "code",
      "metadata": {
        "id": "oW-KrNQFSi8Y",
        "colab": {
          "base_uri": "https://localhost:8080/"
        },
        "outputId": "730a430e-c7b2-40e0-9255-e12db5d045d0"
      },
      "source": [
        "if (l<mean_ETF<u) & (l1<mean_ETF<u1):\n",
        "  print('Both the intervals contain the true value of the population mean')\n",
        "else:\n",
        "  print('Only one of the both or none of the confidence intervals contain the true value of the population mean')"
      ],
      "execution_count": null,
      "outputs": [
        {
          "output_type": "stream",
          "name": "stdout",
          "text": [
            "Both the intervals contain the true value of the population mean\n"
          ]
        }
      ]
    },
    {
      "cell_type": "markdown",
      "source": [
        "*We can observe that the sample with larger size i.e; 100 has smaller interval which makes it more accurate.This is because from central limit theorem we know that when the sample size is made larger the distribution tends to become more normal which in turn makes the mean more accurate.*"
      ],
      "metadata": {
        "id": "bVT4ya7x8cGS"
      }
    },
    {
      "cell_type": "markdown",
      "metadata": {
        "id": "ug1vHmVLUw9u"
      },
      "source": [
        "**Part 6: Form a hypothesis and test it with your data**"
      ]
    },
    {
      "cell_type": "code",
      "metadata": {
        "id": "Qg41j0bjSN2U"
      },
      "source": [
        "from scipy import stats\n",
        "from statsmodels.stats import weightstats"
      ],
      "execution_count": null,
      "outputs": []
    },
    {
      "cell_type": "markdown",
      "metadata": {
        "id": "csLgouejth9c"
      },
      "source": [
        "*The part 6 of project deals with testing different hypotheses on means and standard deviation at a significance level 0.05 . Z – test was used for the hypothesis testing of means and Chi-square test was used for testing the standard deviation.For all the tests we got the p-value lesser than the significance value which we identify as criterion for rejecting the null hypothesis. The results of the tests are as follows:*"
      ]
    },
    {
      "cell_type": "markdown",
      "metadata": {
        "id": "HcEEzK_FU1JQ"
      },
      "source": [
        "*1)Use the same sample you picked up in Step 1) of Part 5 to test H_0:  μ=100 vs. H_a:  μ≠100 at the significance level 0.05. What’s your conclusion?*"
      ]
    },
    {
      "cell_type": "code",
      "metadata": {
        "id": "vbwoaTHyUx2H",
        "colab": {
          "base_uri": "https://localhost:8080/"
        },
        "outputId": "c252943d-e70d-4a97-d1be-31da3f34755e"
      },
      "source": [
        "ztest,pval=weightstats.ztest(samp3[i],value=100,alternative='two-sided')\n",
        "print(pval)\n",
        "if pval<0.05:\n",
        "  print('Reject H0')\n",
        "else:\n",
        "  print('Donot Reject H0')"
      ],
      "execution_count": null,
      "outputs": [
        {
          "output_type": "stream",
          "name": "stdout",
          "text": [
            "1.797020262600604e-59\n",
            "Reject H0\n"
          ]
        }
      ]
    },
    {
      "cell_type": "markdown",
      "source": [
        "*We test for null hypothesis, mean = 100 which is wrong at given significance level as we have seen in the part 5 the confidence interval at 95% doesnt contain 100,so the test rejects null hypothesis*"
      ],
      "metadata": {
        "id": "DZ5Gbjs_9LsU"
      }
    },
    {
      "cell_type": "markdown",
      "metadata": {
        "id": "JIXCp-m1VFsp"
      },
      "source": [
        "*2)Use the same sample you picked up in Step 2) of Part 5 to test H_0:  μ=100 vs. H_a:  μ≠100 at the significance level 0.05. What’s your conclusion?*"
      ]
    },
    {
      "cell_type": "code",
      "metadata": {
        "id": "mHID5IW_VHod",
        "colab": {
          "base_uri": "https://localhost:8080/"
        },
        "outputId": "283e72fd-7343-4543-f0c0-30de70d4aea2"
      },
      "source": [
        "ztest,pval=weightstats.ztest(samp2[j],value=100,alternative='two-sided')\n",
        "print(pval)\n",
        "if pval<0.05:\n",
        "  print('Reject H0')\n",
        "else:\n",
        "  print('Donot Reject H0')"
      ],
      "execution_count": null,
      "outputs": [
        {
          "output_type": "stream",
          "name": "stdout",
          "text": [
            "1.9489668127764096e-10\n",
            "Reject H0\n"
          ]
        }
      ]
    },
    {
      "cell_type": "markdown",
      "source": [
        "*We test for null hypothesis, mean = 100 which is wrong at given significance level as we have seen in the part 5 the confidence interval at 95% doesnt contain 100,so the test rejects null hypothesis*"
      ],
      "metadata": {
        "id": "Bqqd_rrz9cqA"
      }
    },
    {
      "cell_type": "markdown",
      "metadata": {
        "id": "vGKns8RzVIJv"
      },
      "source": [
        "*3)Use the same sample you picked up in Step 2) of Part 5 to test H_0:  σ=15   vs. H_a:  σ≠15 at the significance level 0.05. What’s your conclusion?*"
      ]
    },
    {
      "cell_type": "code",
      "metadata": {
        "id": "Pf2FFz_iVLUB",
        "colab": {
          "base_uri": "https://localhost:8080/"
        },
        "outputId": "bd6a9d54-2948-45f8-f81f-b105d4015272"
      },
      "source": [
        "# We use Chi Square two tailed test\n",
        "x2=19/225*(np.std(samp2[j]))**2\n",
        "a=chi2.ppf(0.025,19)\n",
        "b=chi2.ppf(0.975,19)\n",
        "if(x2<b or x2>a):\n",
        "  print('Reject H0')\n",
        "else:\n",
        "  print('Fail to reject H0')"
      ],
      "execution_count": null,
      "outputs": [
        {
          "output_type": "stream",
          "name": "stdout",
          "text": [
            "Reject H0\n"
          ]
        }
      ]
    },
    {
      "cell_type": "code",
      "source": [
        "x2"
      ],
      "metadata": {
        "colab": {
          "base_uri": "https://localhost:8080/"
        },
        "id": "2cUO6HsDzG86",
        "outputId": "17a4faa8-cf68-4afd-cd64-72bd204912db"
      },
      "execution_count": null,
      "outputs": [
        {
          "output_type": "execute_result",
          "data": {
            "text/plain": [
              "17.505655310804748"
            ]
          },
          "metadata": {},
          "execution_count": 77
        }
      ]
    },
    {
      "cell_type": "markdown",
      "source": [
        "*We test for null hypothesis, std = 15 which is wrong at significance level 0.05,so the test rejects null hypothesis*"
      ],
      "metadata": {
        "id": "yRaZ6ZFs9d6I"
      }
    },
    {
      "cell_type": "markdown",
      "metadata": {
        "id": "vvE7Mr4dVLtq"
      },
      "source": [
        "*4)Use the same sample you picked up in Step 2) of Part 5 to test H_0:  σ=15   vs. H_a:  σ<15 at the significance level 0.05. What’s your conclusion?*"
      ]
    },
    {
      "cell_type": "code",
      "metadata": {
        "id": "DcMfmf4o9N7B",
        "colab": {
          "base_uri": "https://localhost:8080/"
        },
        "outputId": "cf831e3f-959f-4cf3-9b94-305f4620bf1c"
      },
      "source": [
        "#p=stats.distributions.chi2.sf(x2, 19)\n",
        "if x2<chi2.ppf(0.95,19):\n",
        "  print('Reject H0')\n",
        "else:\n",
        "  print('Fail to Reject H0')"
      ],
      "execution_count": null,
      "outputs": [
        {
          "output_type": "stream",
          "name": "stdout",
          "text": [
            "Reject H0\n"
          ]
        }
      ]
    },
    {
      "cell_type": "markdown",
      "source": [
        "*We test for null hypothesis, std = 15 which is wrong at significance level 0.05,so the test rejects null hypothesis*"
      ],
      "metadata": {
        "id": "a5DLxSy397fL"
      }
    },
    {
      "cell_type": "markdown",
      "metadata": {
        "id": "XmhlyA2NVS4q"
      },
      "source": [
        "**Part 7: Compare your data with a different data set**"
      ]
    },
    {
      "cell_type": "markdown",
      "metadata": {
        "id": "2zyM3w6hts1K"
      },
      "source": [
        "*Till now we were working on the ETF variable completely.In the part 7 we test the hypotheses on different data.We consider ‘Oil ’ and ‘Gold’ variable as the samples and we perform different hypotheses testing on these samples.We use a t-test for two samples to check whether the means of two sample are equal or not. We consider subtracting one sample from another and check whether the mean is equal to zero or not .We use a t-test for one sample to test it.And the last hypothesis we like to test is the variance test.We use a F test to check the variances.Lets look at the results of the tests.The results of all the tests were ‘Fail to reject H0.' Lets test the hypotheses now one by one.*"
      ]
    },
    {
      "cell_type": "markdown",
      "metadata": {
        "id": "TVUbQDNbGfIt"
      },
      "source": [
        "*1)\tConsider the entire Gold column as a random sample from the first population, and the entire Oil column as a random sample from the second population. Assuming these two samples be drawn independently, form a hypothesis and test it to see if the Gold and Oil have equal means in the significance level 0.05.*"
      ]
    },
    {
      "cell_type": "markdown",
      "metadata": {
        "id": "EotsPEKhjB9W"
      },
      "source": [
        "**H0: Means are equal**\n",
        "\n",
        "\n",
        "**H1: Not H0**"
      ]
    },
    {
      "cell_type": "code",
      "metadata": {
        "id": "fJ7hBOdmVTrt"
      },
      "source": [
        "samp_gold=data['gold']\n",
        "m_sg=np.mean(samp_gold)"
      ],
      "execution_count": null,
      "outputs": []
    },
    {
      "cell_type": "code",
      "metadata": {
        "id": "HNYjuOoHf5Wl"
      },
      "source": [
        "samp_oil=data['oil']\n",
        "m_oil=np.mean(samp_oil)"
      ],
      "execution_count": null,
      "outputs": []
    },
    {
      "cell_type": "code",
      "metadata": {
        "id": "iKCLzRsFf9Oi"
      },
      "source": [
        "sp=np.sqrt(((len(samp_gold)-1)*np.std(samp_gold)**2)+((len(samp_oil)-1)*np.std(samp_oil)**2)/(2*len(samp_gold)-2))"
      ],
      "execution_count": null,
      "outputs": []
    },
    {
      "cell_type": "code",
      "metadata": {
        "colab": {
          "base_uri": "https://localhost:8080/"
        },
        "id": "ddrqAnRNhjec",
        "outputId": "1ba4c6fc-c6a6-48a9-ad55-8c67bcf68486"
      },
      "source": [
        "tstat=(m_sg-m_oil)/(sp*np.sqrt(2/len(samp_gold)))\n",
        "print(tstat)"
      ],
      "execution_count": null,
      "outputs": [
        {
          "output_type": "stream",
          "name": "stdout",
          "text": [
            "-0.023003007151837184\n"
          ]
        }
      ]
    },
    {
      "cell_type": "code",
      "metadata": {
        "id": "_e9FHkUthx4r"
      },
      "source": [
        "t_s=t.ppf(0.025,18)"
      ],
      "execution_count": null,
      "outputs": []
    },
    {
      "cell_type": "code",
      "metadata": {
        "colab": {
          "base_uri": "https://localhost:8080/"
        },
        "id": "wGSD52kAic57",
        "outputId": "e6b9aa26-2982-4cfc-a721-23dba0b95be8"
      },
      "source": [
        "if np.absolute(tstat)>np.absolute(t_s):\n",
        "  print('Reject H0')\n",
        "else:\n",
        "  print('Fail to reject H0')"
      ],
      "execution_count": null,
      "outputs": [
        {
          "output_type": "stream",
          "name": "stdout",
          "text": [
            "Fail to reject H0\n"
          ]
        }
      ]
    },
    {
      "cell_type": "code",
      "source": [
        "zstat,pval=weightstats.ztest(samp_gold,samp_oil,alternative='two-sided',usevar='pooled',value=0)"
      ],
      "metadata": {
        "id": "uf_zzkJmNp81"
      },
      "execution_count": null,
      "outputs": []
    },
    {
      "cell_type": "code",
      "source": [
        "zstat"
      ],
      "metadata": {
        "colab": {
          "base_uri": "https://localhost:8080/"
        },
        "id": "Z9htw90g-UJY",
        "outputId": "d32a7424-5cdd-4119-eec6-be8dd20dd3c3"
      },
      "execution_count": null,
      "outputs": [
        {
          "output_type": "execute_result",
          "data": {
            "text/plain": [
              "-0.48536661382360874"
            ]
          },
          "metadata": {},
          "execution_count": 86
        }
      ]
    },
    {
      "cell_type": "code",
      "source": [
        "pval"
      ],
      "metadata": {
        "colab": {
          "base_uri": "https://localhost:8080/"
        },
        "id": "LeSy-mkcPKsa",
        "outputId": "710cd436-fa7b-4518-be64-90e83103951e"
      },
      "execution_count": null,
      "outputs": [
        {
          "output_type": "execute_result",
          "data": {
            "text/plain": [
              "0.6274163105067022"
            ]
          },
          "metadata": {},
          "execution_count": 87
        }
      ]
    },
    {
      "cell_type": "code",
      "source": [
        "if(pval<0.05):\n",
        "  print('Reject H0')\n",
        "else:\n",
        "  print('Fail to reject H0')"
      ],
      "metadata": {
        "colab": {
          "base_uri": "https://localhost:8080/"
        },
        "id": "g6CafQ6gPMbl",
        "outputId": "d8995670-a91e-4ecc-c69c-cef680aa2142"
      },
      "execution_count": null,
      "outputs": [
        {
          "output_type": "stream",
          "name": "stdout",
          "text": [
            "Fail to reject H0\n"
          ]
        }
      ]
    },
    {
      "cell_type": "markdown",
      "source": [
        "*At such smaller significance level the means are almost equal : they arent exactly equal but when we consider smaller significance level we can consider them as equal.So, the test cannot reject H0.*"
      ],
      "metadata": {
        "id": "EJO-UPkH9_7G"
      }
    },
    {
      "cell_type": "markdown",
      "metadata": {
        "id": "5DWX20sKjLwO"
      },
      "source": [
        "*2)\tSubtract the entire Gold column from the entire Oil column and generate a sample of differences. Consider this sample as a random sample from the target population of differences between Gold and Oil. Form a hypothesis and test it to see if the Gold and Oil have equal means in the significance level 0.05.*"
      ]
    },
    {
      "cell_type": "markdown",
      "metadata": {
        "id": "t_Qi07YWjv4E"
      },
      "source": [
        "**H0: No difference in means**\n",
        "\n",
        "**H1: Not H0**"
      ]
    },
    {
      "cell_type": "code",
      "metadata": {
        "id": "ErZmOJ4Si_1G"
      },
      "source": [
        "samp_go=data['oil']-data['gold']"
      ],
      "execution_count": null,
      "outputs": []
    },
    {
      "cell_type": "code",
      "metadata": {
        "colab": {
          "base_uri": "https://localhost:8080/"
        },
        "id": "VZHWj5qmO_qk",
        "outputId": "14fd7634-a1e1-4753-99c8-76195716419d"
      },
      "source": [
        "samp_gomean=samp_go.mean()\n",
        "print(samp_gomean)"
      ],
      "execution_count": null,
      "outputs": [
        {
          "output_type": "stream",
          "name": "stdout",
          "text": [
            "0.0003671994117470015\n"
          ]
        }
      ]
    },
    {
      "cell_type": "code",
      "metadata": {
        "id": "tYKoLDOs3Hrb"
      },
      "source": [
        "tstati,pv=ttest_1samp(samp_go,0)"
      ],
      "execution_count": null,
      "outputs": []
    },
    {
      "cell_type": "code",
      "metadata": {
        "colab": {
          "base_uri": "https://localhost:8080/"
        },
        "id": "Dc_0U8893YFA",
        "outputId": "fabbef50-0af5-4328-8ee1-9f2b5448114f"
      },
      "source": [
        "pv"
      ],
      "execution_count": null,
      "outputs": [
        {
          "output_type": "execute_result",
          "data": {
            "text/plain": [
              "0.5884002009146817"
            ]
          },
          "metadata": {},
          "execution_count": 92
        }
      ]
    },
    {
      "cell_type": "code",
      "metadata": {
        "colab": {
          "base_uri": "https://localhost:8080/"
        },
        "id": "2PmdXE3xO_iD",
        "outputId": "149a5fa5-c3d3-4779-b949-5a44b8f0e251"
      },
      "source": [
        "if(pv>0.05):\n",
        "  print('Fail to Reject H0')\n",
        "else:\n",
        "  print('Reject H0')"
      ],
      "execution_count": null,
      "outputs": [
        {
          "output_type": "stream",
          "name": "stdout",
          "text": [
            "Fail to Reject H0\n"
          ]
        }
      ]
    },
    {
      "cell_type": "markdown",
      "source": [
        "*At such smaller significance level the means are almost equal : they arent exactly equal but when we consider smaller significance level we can consider them as equal.So, the test cannot reject H0.*"
      ],
      "metadata": {
        "id": "NEBAU0QD-XKp"
      }
    },
    {
      "cell_type": "markdown",
      "metadata": {
        "id": "josRi0jtjqKm"
      },
      "source": [
        "*3)\tConsider the entire Gold column as a random sample from the first population, and the entire Oil column as a random sample from the second population. Assuming these two samples be drawn independently, form a hypothesis and test it to see if the Gold and Oil have equal standard deviations in the significance level 0.05.*"
      ]
    },
    {
      "cell_type": "markdown",
      "metadata": {
        "id": "gNYrJ0gQj2WC"
      },
      "source": [
        "**H0: Both variances are equal**\n",
        "\n",
        "**H1: Not H0**"
      ]
    },
    {
      "cell_type": "code",
      "metadata": {
        "id": "4KBjRSCKjp5D"
      },
      "source": [
        "fstat=(data['gold'].std()/data['oil'].std())**2"
      ],
      "execution_count": null,
      "outputs": []
    },
    {
      "cell_type": "code",
      "metadata": {
        "colab": {
          "base_uri": "https://localhost:8080/"
        },
        "id": "_arjqZ8f8QfK",
        "outputId": "efe6f6ec-711b-4df7-dd63-9931875b440b"
      },
      "source": [
        "p=f.sf(fstat,999,999)\n",
        "if(p<0.05):\n",
        "  print('Reject H0')\n",
        "else:\n",
        "  print('Fail to reject H0')"
      ],
      "execution_count": null,
      "outputs": [
        {
          "output_type": "stream",
          "name": "stdout",
          "text": [
            "Fail to reject H0\n"
          ]
        }
      ]
    },
    {
      "cell_type": "markdown",
      "source": [
        "*At such smaller significance level the standard deviations are almost equal : they arent exactly equal but when we consider smaller significance level we can consider them as equal.So, the test cannot reject H0.*"
      ],
      "metadata": {
        "id": "TCNEYI2E-ZuR"
      }
    },
    {
      "cell_type": "markdown",
      "metadata": {
        "id": "wWGBwhR-Uazg"
      },
      "source": [
        "**Part 8: Fitting the line to the data**"
      ]
    },
    {
      "cell_type": "markdown",
      "metadata": {
        "id": "qV99iChWU6xV"
      },
      "source": [
        "*1)\tDraw a scatter plot of ETF (Y) vs. Gold (X). Is there any linear relationship between them which can be observed from the scatter plot?*"
      ]
    },
    {
      "cell_type": "code",
      "metadata": {
        "id": "IEc8gy9M92Nt",
        "colab": {
          "base_uri": "https://localhost:8080/",
          "height": 297
        },
        "outputId": "6f5f36d1-4d0a-4483-ccc4-681ff141ca5d"
      },
      "source": [
        "sns.scatterplot(y=data['Close_ETF'],x=data['gold'],color='k',alpha=0.3)"
      ],
      "execution_count": null,
      "outputs": [
        {
          "output_type": "execute_result",
          "data": {
            "text/plain": [
              "<matplotlib.axes._subplots.AxesSubplot at 0x7f29c9ff3150>"
            ]
          },
          "metadata": {},
          "execution_count": 96
        },
        {
          "output_type": "display_data",
          "data": {
            "image/png": "[encoded data removed]",
            "text/plain": [
              "<Figure size 432x288 with 1 Axes>"
            ]
          },
          "metadata": {
            "needs_background": "light"
          }
        }
      ]
    },
    {
      "cell_type": "code",
      "metadata": {
        "colab": {
          "base_uri": "https://localhost:8080/",
          "height": 297
        },
        "id": "1ygkNTFbVCG8",
        "outputId": "7fa5e252-cc30-4671-e48a-ea6469ea0e2f"
      },
      "source": [
        "sns.scatterplot(y=norm_data['Close_ETF'],x=data['gold'],color='k',alpha=0.3)"
      ],
      "execution_count": null,
      "outputs": [
        {
          "output_type": "execute_result",
          "data": {
            "text/plain": [
              "<matplotlib.axes._subplots.AxesSubplot at 0x7f29c9fc5d10>"
            ]
          },
          "metadata": {},
          "execution_count": 97
        },
        {
          "output_type": "display_data",
          "data": {
            "image/png": "[encoded data removed]",
            "text/plain": [
              "<Figure size 432x288 with 1 Axes>"
            ]
          },
          "metadata": {
            "needs_background": "light"
          }
        }
      ]
    },
    {
      "cell_type": "markdown",
      "metadata": {
        "id": "4Sz0TWswVPNP"
      },
      "source": [
        "*There isnt much linear correlation between the dependent and independent variables*"
      ]
    },
    {
      "cell_type": "markdown",
      "metadata": {
        "id": "54azGXlQV9IL"
      },
      "source": [
        "*2)\tCalculate the coefficient of correlation between ETF and Gold and interpret it.*"
      ]
    },
    {
      "cell_type": "code",
      "metadata": {
        "colab": {
          "base_uri": "https://localhost:8080/"
        },
        "id": "R3Zpj7w1VKYv",
        "outputId": "cc90eb4c-8892-47f1-df7f-c683d5ff76af"
      },
      "source": [
        "cf=np.corrcoef(y=data['Close_ETF'],x=data['gold'])\n",
        "print(cf)\n",
        "print(cf[0][1])"
      ],
      "execution_count": null,
      "outputs": [
        {
          "output_type": "stream",
          "name": "stdout",
          "text": [
            "[[1.         0.02299557]\n",
            " [0.02299557 1.        ]]\n",
            "0.02299557007605463\n"
          ]
        }
      ]
    },
    {
      "cell_type": "markdown",
      "metadata": {
        "id": "8TqJiNlEV-bE"
      },
      "source": [
        "*We can observe from the correlation coeff matrix that the correlation is very less*"
      ]
    },
    {
      "cell_type": "markdown",
      "metadata": {
        "id": "mo_XL5ZJWK2z"
      },
      "source": [
        "*3)\tFit a regression line (or least squares line, best fitting line) to the scatter plot. What are the intercept and slope of this line? How to interpret them?*"
      ]
    },
    {
      "cell_type": "code",
      "metadata": {
        "colab": {
          "base_uri": "https://localhost:8080/"
        },
        "id": "W9e3pHdoVyTa",
        "outputId": "e6433514-6472-44b6-a034-3dd4a00dd663"
      },
      "source": [
        "x=data['gold']\n",
        "y=data['Close_ETF']\n",
        "x_new=np.c_[np.ones((len(x),1)),x]\n",
        "a,b=np.linalg.lstsq(x_new,y,rcond=None)[0]\n",
        "print(a,b)"
      ],
      "execution_count": null,
      "outputs": [
        {
          "output_type": "stream",
          "name": "stdout",
          "text": [
            "121.13598849889823 25.604389324427355\n"
          ]
        }
      ]
    },
    {
      "cell_type": "code",
      "metadata": {
        "colab": {
          "base_uri": "https://localhost:8080/",
          "height": 265
        },
        "id": "BBGpOnjMWaz7",
        "outputId": "a85b6f57-196c-4b90-dd3a-16701d05b1bd"
      },
      "source": [
        "y_=a+b*x\n",
        "fig=plt.figure()\n",
        "ax=fig.subplots()\n",
        "ax.plot(x,y_,c='r',alpha=1,label='Linear fit')\n",
        "ax.scatter(x,y,c='k',alpha=0.3,label='Data')\n",
        "ax.legend()\n",
        "plt.show()"
      ],
      "execution_count": null,
      "outputs": [
        {
          "output_type": "display_data",
          "data": {
            "image/png": "[encoded data removed]",
            "text/plain": [
              "<Figure size 432x288 with 1 Axes>"
            ]
          },
          "metadata": {
            "needs_background": "light"
          }
        }
      ]
    },
    {
      "cell_type": "markdown",
      "metadata": {
        "id": "pW2wN5MuuGJc"
      },
      "source": [
        "*The above plot shows the linear fitting on the data. The data above isn’t not normalised.Lets try finding correlation and linear fit with the normalised data.*"
      ]
    },
    {
      "cell_type": "code",
      "metadata": {
        "colab": {
          "base_uri": "https://localhost:8080/"
        },
        "id": "mE5GoayDWgzk",
        "outputId": "e392717c-947e-4ba8-ad4e-7186f6e65308"
      },
      "source": [
        "x=norm_data['gold']\n",
        "y=norm_data['Close_ETF']\n",
        "x_new=np.c_[np.ones((len(x),1)),x]\n",
        "a,b=np.linalg.lstsq(x_new,y,rcond=None)[0]\n",
        "print(a,b)"
      ],
      "execution_count": null,
      "outputs": [
        {
          "output_type": "stream",
          "name": "stdout",
          "text": [
            "-7.485096955005528e-15 0.02299557007605461\n"
          ]
        }
      ]
    },
    {
      "cell_type": "code",
      "metadata": {
        "colab": {
          "base_uri": "https://localhost:8080/",
          "height": 265
        },
        "id": "7kqKkTebWpDW",
        "outputId": "f4a89a31-d838-4a1e-a1e2-91bf48d723e9"
      },
      "source": [
        "y_=a+b*x\n",
        "fig=plt.figure()\n",
        "ax=fig.subplots()\n",
        "ax.plot(x,y_,c='r',alpha=1,label='Linear fit')\n",
        "ax.scatter(x,y,c='k',alpha=0.3,label='Data')\n",
        "ax.legend()\n",
        "plt.show()"
      ],
      "execution_count": null,
      "outputs": [
        {
          "output_type": "display_data",
          "data": {
            "image/png": "[encoded data removed]",
            "text/plain": [
              "<Figure size 432x288 with 1 Axes>"
            ]
          },
          "metadata": {
            "needs_background": "light"
          }
        }
      ]
    },
    {
      "cell_type": "markdown",
      "metadata": {
        "id": "BsrRceUoW4sN"
      },
      "source": [
        "*There is no good amount of correlation between the variables for a line to fit them exactly.*"
      ]
    },
    {
      "cell_type": "markdown",
      "metadata": {
        "id": "TvIBZxSqWyCT"
      },
      "source": [
        "*4)Conduct a two-tailed t-test with〖 H〗_0:  β_1=0. What is the P-value of the test? Is the linear relationship between ETF (Y) and Gold (X) significant at the significance level 0.01? Why or why not?*\n",
        "\n",
        "\n"
      ]
    },
    {
      "cell_type": "markdown",
      "metadata": {
        "id": "ilCcqPDgQHNG"
      },
      "source": [
        "**H0:B1=0**\n",
        "\n",
        "\n",
        "\n",
        "**H1: Not H0**"
      ]
    },
    {
      "cell_type": "code",
      "source": [
        "sxx=np.std(data['gold'])**2\n",
        "syy=np.std(data['Close_ETF'])**2\n",
        "sxy=np.cov(data['Close_ETF'],data['gold'])[0][1]\n",
        "b=sxy/sxx\n",
        "s=np.sqrt((syy-sxy)/998)\n",
        "se=s/np.sqrt(sxx)\n",
        "tv=b/se"
      ],
      "metadata": {
        "id": "mtVhYprCBQSf"
      },
      "execution_count": null,
      "outputs": []
    },
    {
      "cell_type": "code",
      "source": [
        "tv"
      ],
      "metadata": {
        "colab": {
          "base_uri": "https://localhost:8080/"
        },
        "id": "2yPNI-A1B_Yy",
        "outputId": "49791e57-eb95-4ad7-e467-8acb77fc973e"
      },
      "execution_count": null,
      "outputs": [
        {
          "output_type": "execute_result",
          "data": {
            "text/plain": [
              "0.7271909277566622"
            ]
          },
          "metadata": {},
          "execution_count": 104
        }
      ]
    },
    {
      "cell_type": "code",
      "metadata": {
        "id": "myBtabV1WrkC"
      },
      "source": [
        "r=cf[0][1]"
      ],
      "execution_count": null,
      "outputs": []
    },
    {
      "cell_type": "code",
      "metadata": {
        "id": "6xVJQMx2R3na"
      },
      "source": [
        "tst=r*(np.sqrt(998/(1-(r**2))))"
      ],
      "execution_count": null,
      "outputs": []
    },
    {
      "cell_type": "code",
      "metadata": {
        "colab": {
          "base_uri": "https://localhost:8080/"
        },
        "id": "VEhPNUYnSJgz",
        "outputId": "b251cb1c-901c-44ac-a935-16b489d17e8e"
      },
      "source": [
        "tst"
      ],
      "execution_count": null,
      "outputs": [
        {
          "output_type": "execute_result",
          "data": {
            "text/plain": [
              "0.7266483774835961"
            ]
          },
          "metadata": {},
          "execution_count": 107
        }
      ]
    },
    {
      "cell_type": "code",
      "source": [
        "pp=t.sf(tst,999)*2\n",
        "pp"
      ],
      "metadata": {
        "colab": {
          "base_uri": "https://localhost:8080/"
        },
        "id": "LdZy2AMg8-42",
        "outputId": "cccacbc5-3f92-42d5-9f53-aaf52e591e42"
      },
      "execution_count": null,
      "outputs": [
        {
          "output_type": "execute_result",
          "data": {
            "text/plain": [
              "0.4676116100849137"
            ]
          },
          "metadata": {},
          "execution_count": 108
        }
      ]
    },
    {
      "cell_type": "code",
      "source": [
        "pt=t.sf(tv,999)*2\n",
        "pt"
      ],
      "metadata": {
        "colab": {
          "base_uri": "https://localhost:8080/"
        },
        "id": "iFpPyqT0CQ15",
        "outputId": "895523e4-9acc-4a30-a151-23b43ac6499d"
      },
      "execution_count": null,
      "outputs": [
        {
          "output_type": "execute_result",
          "data": {
            "text/plain": [
              "0.4672793764302384"
            ]
          },
          "metadata": {},
          "execution_count": 109
        }
      ]
    },
    {
      "cell_type": "markdown",
      "metadata": {
        "id": "N0wb7DCG7A17"
      },
      "source": [
        "*Here the t critical value is 1.9623 or -1.9623*"
      ]
    },
    {
      "cell_type": "code",
      "source": [
        "if (pv<0.01):\n",
        "  print('Reject H0')\n",
        "else:\n",
        "  print('Fail to reject H0')"
      ],
      "metadata": {
        "colab": {
          "base_uri": "https://localhost:8080/"
        },
        "id": "VWa8_CCG9c4x",
        "outputId": "4b2301f8-d567-46d8-fdb9-6fc632132962"
      },
      "execution_count": null,
      "outputs": [
        {
          "output_type": "stream",
          "name": "stdout",
          "text": [
            "Fail to reject H0\n"
          ]
        }
      ]
    },
    {
      "cell_type": "code",
      "metadata": {
        "colab": {
          "base_uri": "https://localhost:8080/"
        },
        "id": "z7Nv98q5T1pu",
        "outputId": "13a4f91d-f7cf-449b-992e-1e3459a63764"
      },
      "source": [
        "if(tst<-1.9623 or tst>1.9623):\n",
        "  print('Reject H0')\n",
        "else:\n",
        "  print('Fail to reject H0')"
      ],
      "execution_count": null,
      "outputs": [
        {
          "output_type": "stream",
          "name": "stdout",
          "text": [
            "Fail to reject H0\n"
          ]
        }
      ]
    },
    {
      "cell_type": "markdown",
      "source": [
        "*From the plots that we observe above we can say that there is no good correlation between them and at the significance level 0.05 we can consider that there is no linear correlation.So the test fails to reject H0*"
      ],
      "metadata": {
        "id": "JsaFuBdIzTT5"
      }
    },
    {
      "cell_type": "markdown",
      "metadata": {
        "id": "0ys1lEENUzXy"
      },
      "source": [
        "*5)\tSuppose that you use the coefficient of determination to assess the quality of this fitting. Is it a good model? Why or why not?*"
      ]
    },
    {
      "cell_type": "code",
      "metadata": {
        "colab": {
          "base_uri": "https://localhost:8080/"
        },
        "id": "rrHQg3lBVgcx",
        "outputId": "310ad047-eadf-49c0-9c83-b4567ee75e25"
      },
      "source": [
        "cd=r2_score(data['Close_ETF'],data['gold'])\n",
        "print('Coefficient of Determination is',cd)"
      ],
      "execution_count": null,
      "outputs": [
        {
          "output_type": "stream",
          "name": "stdout",
          "text": [
            "Coefficient of Determination is -92.99113815628421\n"
          ]
        }
      ]
    },
    {
      "cell_type": "markdown",
      "metadata": {
        "id": "jboJh858Vi5D"
      },
      "source": [
        "*Finding the coefficient of determination on the actual data doesnt give any logical result as the ETF column scale is very high so we can find the coefficient of determination using the normalized data which makes more sense*"
      ]
    },
    {
      "cell_type": "code",
      "metadata": {
        "colab": {
          "base_uri": "https://localhost:8080/"
        },
        "id": "4Sukse3hUSZM",
        "outputId": "de23c828-2dfc-446b-91c6-1777d040c5f0"
      },
      "source": [
        "cd=r2_score(norm_data['Close_ETF'],norm_data['gold'])\n",
        "print('Coefficient of Determination is',cd)"
      ],
      "execution_count": null,
      "outputs": [
        {
          "output_type": "stream",
          "name": "stdout",
          "text": [
            "Coefficient of Determination is -0.9540088598478909\n"
          ]
        }
      ]
    },
    {
      "cell_type": "markdown",
      "metadata": {
        "id": "9JVFGvqfWdfe"
      },
      "source": [
        "*The coefficient of determination is negative as we tried a linear fit where the correlation is not linear.*"
      ]
    },
    {
      "cell_type": "code",
      "metadata": {
        "colab": {
          "base_uri": "https://localhost:8080/"
        },
        "id": "iBOdH2mXV_7x",
        "outputId": "64c966c6-4bab-49e6-d475-9574eaf14f33"
      },
      "source": [
        "cd=r2_score(norm_data['Close_ETF'],data['gold'])\n",
        "print('Coefficient of Determination is',cd)"
      ],
      "execution_count": null,
      "outputs": [
        {
          "output_type": "stream",
          "name": "stdout",
          "text": [
            "Coefficient of Determination is 0.00039131407957015973\n"
          ]
        }
      ]
    },
    {
      "cell_type": "markdown",
      "metadata": {
        "id": "pf1nsdd0WoxE"
      },
      "source": [
        "*When the coefficient of determination is found between norm ETF and actual gold the coefficient of determination is almost null which shows that the fitting is not great and hence it isnt a good model*"
      ]
    },
    {
      "cell_type": "markdown",
      "metadata": {
        "id": "PYpdPHBYWYCx"
      },
      "source": [
        "*6)\tWhat are the assumptions you made for this model fitting?*"
      ]
    },
    {
      "cell_type": "markdown",
      "source": [
        "*1.   We assumed that the relationship between x and y is linear so we tried to fit a linear model*\n",
        "\n",
        "*2.   Residuals are independent.*\n",
        "\n",
        "*3.   Errors are normally distributed*\n",
        "\n",
        "*4.   Homodescacity of errors.*\n",
        "\n",
        "\n",
        "\n"
      ],
      "metadata": {
        "id": "Ecd8ZDQT4Dg0"
      }
    },
    {
      "cell_type": "markdown",
      "metadata": {
        "id": "aer7fv7rdPgV"
      },
      "source": [
        "*7)\tGiven the daily relative change in the gold price is 0.005127. Calculate the 99% confidence interval of the mean daily ETF return, and the 99% prediction interval of the individual daily ETF return.*"
      ]
    },
    {
      "cell_type": "markdown",
      "source": [
        "*99% confidence interval of the mean daily ETF return*"
      ],
      "metadata": {
        "id": "p28612ygdNfV"
      }
    },
    {
      "cell_type": "code",
      "metadata": {
        "id": "yXm0I2ZCY6ip",
        "colab": {
          "base_uri": "https://localhost:8080/"
        },
        "outputId": "cb5867c6-5f77-4552-d6bc-1d5175adb186"
      },
      "source": [
        "stats.norm.interval(0.99,25.60*np.mean(data['gold'])+121.136,stats.sem(25.60*data['gold']+121.136))"
      ],
      "execution_count": null,
      "outputs": [
        {
          "output_type": "execute_result",
          "data": {
            "text/plain": [
              "(121.12942814960344, 121.17650905779495)"
            ]
          },
          "metadata": {},
          "execution_count": 150
        }
      ]
    },
    {
      "cell_type": "markdown",
      "source": [
        "*the 99% prediction interval of the individual daily ETF return.*"
      ],
      "metadata": {
        "id": "R4AhMO8JfIi9"
      }
    },
    {
      "cell_type": "code",
      "metadata": {
        "id": "WRiAoI1-Y6d2",
        "colab": {
          "base_uri": "https://localhost:8080/"
        },
        "outputId": "f61bd479-ae2e-4c15-b936-7f71db5a57b4"
      },
      "source": [
        "stats.norm.interval(0.99,25.60*0.005127+121.136,stats.sem(25.60*data['gold']+121.136))"
      ],
      "execution_count": null,
      "outputs": [
        {
          "output_type": "execute_result",
          "data": {
            "text/plain": [
              "(121.24371074590424, 121.29079165409574)"
            ]
          },
          "metadata": {},
          "execution_count": 151
        }
      ]
    },
    {
      "cell_type": "markdown",
      "metadata": {
        "id": "1-ZbxFomY75s"
      },
      "source": [
        "**Part 9:Does your model predict?**"
      ]
    },
    {
      "cell_type": "code",
      "metadata": {
        "id": "YbD7_TOiZDRo"
      },
      "source": [
        "columns=['oil','gold']\n",
        "x=data[columns]\n",
        "y=data.drop(['oil','gold','JPM'],axis=1)"
      ],
      "execution_count": null,
      "outputs": []
    },
    {
      "cell_type": "code",
      "metadata": {
        "id": "u3i3u-a7ZmBZ"
      },
      "source": [
        "lr=LinearRegression()"
      ],
      "execution_count": null,
      "outputs": []
    },
    {
      "cell_type": "code",
      "metadata": {
        "colab": {
          "base_uri": "https://localhost:8080/"
        },
        "id": "4eJXm0zRZ48V",
        "outputId": "faff7e92-8cab-4b98-9af5-907e17fe5a79"
      },
      "source": [
        "lr.fit(x,y)"
      ],
      "execution_count": null,
      "outputs": [
        {
          "output_type": "execute_result",
          "data": {
            "text/plain": [
              "LinearRegression()"
            ]
          },
          "metadata": {},
          "execution_count": 126
        }
      ]
    },
    {
      "cell_type": "code",
      "metadata": {
        "id": "SLgr3lvXfgjP"
      },
      "source": [
        "y_pred=lr.predict(x)"
      ],
      "execution_count": null,
      "outputs": []
    },
    {
      "cell_type": "code",
      "metadata": {
        "colab": {
          "base_uri": "https://localhost:8080/"
        },
        "id": "5VZaD5XLgnN8",
        "outputId": "dccfbe31-40fa-440a-a3bc-060b2b2d5cb4"
      },
      "source": [
        "lr.score(x,y)"
      ],
      "execution_count": null,
      "outputs": [
        {
          "output_type": "execute_result",
          "data": {
            "text/plain": [
              "0.0007502966608660122"
            ]
          },
          "metadata": {},
          "execution_count": 128
        }
      ]
    },
    {
      "cell_type": "code",
      "metadata": {
        "id": "u_OLWPsbbbcX"
      },
      "source": [
        "adjr2=1 - ((1-lr.score(x, y))*(len(y)-1)/(len(y)-x.shape[1]-1))"
      ],
      "execution_count": null,
      "outputs": []
    },
    {
      "cell_type": "code",
      "metadata": {
        "colab": {
          "base_uri": "https://localhost:8080/"
        },
        "id": "4vOH-ocJaB_s",
        "outputId": "4787b804-9474-43ee-c49f-9fe5451c933c"
      },
      "source": [
        "print('Adjusted R-squared value is',adjr2)"
      ],
      "execution_count": null,
      "outputs": [
        {
          "output_type": "stream",
          "name": "stdout",
          "text": [
            "Adjusted R-squared value is -0.0012542162846487237\n"
          ]
        }
      ]
    },
    {
      "cell_type": "markdown",
      "metadata": {
        "id": "WNibkVRKb5IZ"
      },
      "source": [
        "**Part 10: Checking residuals and model selection**"
      ]
    },
    {
      "cell_type": "code",
      "metadata": {
        "id": "HFPwbZQtg2HG"
      },
      "source": [
        "residuals=np.array(y)-y_pred"
      ],
      "execution_count": null,
      "outputs": []
    },
    {
      "cell_type": "code",
      "metadata": {
        "colab": {
          "base_uri": "https://localhost:8080/"
        },
        "id": "QM18Xbz0hkCQ",
        "outputId": "9d51dd70-460d-4a07-d633-c4328dd2c652"
      },
      "source": [
        "mean_r=np.mean(residuals)\n",
        "print(mean_r)"
      ],
      "execution_count": null,
      "outputs": [
        {
          "output_type": "stream",
          "name": "stdout",
          "text": [
            "3.637978807091713e-15\n"
          ]
        }
      ]
    },
    {
      "cell_type": "markdown",
      "source": [
        "*Mean is very very small shows that it is almost 0 and is consistent with our assumption that mean is 0*"
      ],
      "metadata": {
        "id": "_xxZmSMIjgyB"
      }
    },
    {
      "cell_type": "code",
      "source": [
        "sum(residuals)==0"
      ],
      "metadata": {
        "colab": {
          "base_uri": "https://localhost:8080/"
        },
        "id": "b0kKoJabtj_h",
        "outputId": "fabe6439-0e78-48b7-ba50-fe37429152a5"
      },
      "execution_count": null,
      "outputs": [
        {
          "output_type": "execute_result",
          "data": {
            "text/plain": [
              "array([False])"
            ]
          },
          "metadata": {},
          "execution_count": 141
        }
      ]
    },
    {
      "cell_type": "code",
      "metadata": {
        "colab": {
          "base_uri": "https://localhost:8080/",
          "height": 283
        },
        "id": "4sObD-5_hd8U",
        "outputId": "6a236a9c-2c28-453f-d7af-6760a903df9a"
      },
      "source": [
        "plt.plot(np.linspace(0,1000,num=1000),residuals,c='r')\n",
        "plt.ylabel('Residuals')"
      ],
      "execution_count": null,
      "outputs": [
        {
          "output_type": "execute_result",
          "data": {
            "text/plain": [
              "Text(0, 0.5, 'Residuals')"
            ]
          },
          "metadata": {},
          "execution_count": 142
        },
        {
          "output_type": "display_data",
          "data": {
            "image/png": "[encoded data removed]",
            "text/plain": [
              "<Figure size 432x288 with 1 Axes>"
            ]
          },
          "metadata": {
            "needs_background": "light"
          }
        }
      ]
    },
    {
      "cell_type": "code",
      "metadata": {
        "colab": {
          "base_uri": "https://localhost:8080/",
          "height": 297
        },
        "id": "YKiPfxtej7kF",
        "outputId": "ee087812-f2b2-4c6e-ec94-e70ff32e1cfb"
      },
      "source": [
        "plt.scatter(y,residuals,c='r')\n",
        "plt.xlabel('Close ETF')\n",
        "plt.ylabel('Residuals')"
      ],
      "execution_count": null,
      "outputs": [
        {
          "output_type": "execute_result",
          "data": {
            "text/plain": [
              "Text(0, 0.5, 'Residuals')"
            ]
          },
          "metadata": {},
          "execution_count": 143
        },
        {
          "output_type": "display_data",
          "data": {
            "image/png": "[encoded data removed]",
            "text/plain": [
              "<Figure size 432x288 with 1 Axes>"
            ]
          },
          "metadata": {
            "needs_background": "light"
          }
        }
      ]
    },
    {
      "cell_type": "code",
      "source": [
        "plt.scatter(y_pred,residuals,c='b')\n",
        "plt.xlabel('Predicted ETF')\n",
        "plt.ylabel('Residuals')"
      ],
      "metadata": {
        "colab": {
          "base_uri": "https://localhost:8080/",
          "height": 297
        },
        "id": "iKUJ3OesjxP0",
        "outputId": "9bf25633-a032-4631-88e5-d1cf438435e2"
      },
      "execution_count": null,
      "outputs": [
        {
          "output_type": "execute_result",
          "data": {
            "text/plain": [
              "Text(0, 0.5, 'Residuals')"
            ]
          },
          "metadata": {},
          "execution_count": 144
        },
        {
          "output_type": "display_data",
          "data": {
            "image/png": "[encoded data removed]",
            "text/plain": [
              "<Figure size 432x288 with 1 Axes>"
            ]
          },
          "metadata": {
            "needs_background": "light"
          }
        }
      ]
    },
    {
      "cell_type": "markdown",
      "source": [
        "*From the above residual vs fitted variable plot we can observe that there is no significant change in the variance when the fitted value is changed, so this is consistent with our assumption that the residuals have constant variance.*"
      ],
      "metadata": {
        "id": "S2u7-KkYra33"
      }
    },
    {
      "cell_type": "markdown",
      "source": [
        "*From the same plot we can also say that the residuals  independent because we cannot observe any pattern in the plot, its completely random.*"
      ],
      "metadata": {
        "id": "CqPNt2GPukZg"
      }
    },
    {
      "cell_type": "code",
      "metadata": {
        "id": "ybSL4jczkT8m",
        "colab": {
          "base_uri": "https://localhost:8080/",
          "height": 541
        },
        "outputId": "8f6ef5e6-062a-4cfb-8349-4aee92c92057"
      },
      "source": [
        "sm.qqplot(residuals,dist='norm',line='45')"
      ],
      "execution_count": null,
      "outputs": [
        {
          "output_type": "execute_result",
          "data": {
            "image/png": "[encoded data removed]",
            "text/plain": [
              "<Figure size 432x288 with 1 Axes>"
            ]
          },
          "metadata": {},
          "execution_count": 145
        },
        {
          "output_type": "display_data",
          "data": {
            "image/png": "[encoded data removed]",
            "text/plain": [
              "<Figure size 432x288 with 1 Axes>"
            ]
          },
          "metadata": {
            "needs_background": "light"
          }
        }
      ]
    },
    {
      "cell_type": "code",
      "source": [
        "sm.qqplot(residuals,dist='norm',line='s')"
      ],
      "metadata": {
        "colab": {
          "base_uri": "https://localhost:8080/",
          "height": 541
        },
        "id": "cAtsQwr1hClV",
        "outputId": "c4d0281d-1569-43cc-d111-5942a549caf0"
      },
      "execution_count": null,
      "outputs": [
        {
          "output_type": "execute_result",
          "data": {
            "image/png": "[encoded data removed]",
            "text/plain": [
              "<Figure size 432x288 with 1 Axes>"
            ]
          },
          "metadata": {},
          "execution_count": 146
        },
        {
          "output_type": "display_data",
          "data": {
            "image/png": "[encoded data removed]",
            "text/plain": [
              "<Figure size 432x288 with 1 Axes>"
            ]
          },
          "metadata": {
            "needs_background": "light"
          }
        }
      ]
    },
    {
      "cell_type": "markdown",
      "source": [
        "*From the above quantile plots we can say that the residuals aren't normally distributed as there are deviations from the line.*"
      ],
      "metadata": {
        "id": "Xk18HgNtjKGh"
      }
    },
    {
      "cell_type": "markdown",
      "source": [
        "*From all the above plots we can clearly observe that only 3 of our 4 assumptions are satisfied these are mean=0,constant variance and independent, we can clearly see that there is no exact normality from the qqplot.Since one of the assumptions failed we cannot consider this model as a final model to test in the real world.*"
      ],
      "metadata": {
        "id": "RPH5bG9Cg8Qv"
      }
    },
    {
      "cell_type": "markdown",
      "source": [
        "**We have considered a linear model in this case where we cannot see any linearity between the variables which is the main drawback.So if we consider a polynomial regression model we might get a better performance and reduce the residuals even more.**"
      ],
      "metadata": {
        "id": "Eyft6qNAhsqV"
      }
    }
  ]
}